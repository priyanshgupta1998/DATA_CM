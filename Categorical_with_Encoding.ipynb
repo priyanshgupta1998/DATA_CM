{
  "nbformat": 4,
  "nbformat_minor": 0,
  "metadata": {
    "colab": {
      "name": "TensorFlow with GPU",
      "version": "0.3.2",
      "provenance": [],
      "collapsed_sections": [],
      "include_colab_link": true
    },
    "kernelspec": {
      "name": "python3",
      "display_name": "Python 3"
    },
    "accelerator": "GPU"
  },
  "cells": [
    {
      "cell_type": "markdown",
      "metadata": {
        "id": "view-in-github",
        "colab_type": "text"
      },
      "source": [
        "<a href=\"https://colab.research.google.com/github/priyanshgupta1998/DATA_CM/blob/master/Categorical_with_Encoding.ipynb\" target=\"_parent\"><img src=\"https://colab.research.google.com/assets/colab-badge.svg\" alt=\"Open In Colab\"/></a>"
      ]
    },
    {
      "metadata": {
        "id": "9stjb18qiceE",
        "colab_type": "text"
      },
      "cell_type": "markdown",
      "source": [
        "#Handling Categorical Data in Python"
      ]
    },
    {
      "metadata": {
        "id": "2jvklNgNjTFL",
        "colab_type": "text"
      },
      "cell_type": "markdown",
      "source": [
        "\n",
        "\n",
        "```\n",
        " how you can deal with categorical features in big data with Spark:  'PySpark ' module\n",
        "```\n",
        "\n"
      ]
    },
    {
      "metadata": {
        "id": "X-AXCyQQogYp",
        "colab_type": "text"
      },
      "cell_type": "markdown",
      "source": [
        "Also make sure that you set Matplotlib to plot inline, which means that the outputted plot will appear immediately under each code cell."
      ]
    },
    {
      "metadata": {
        "id": "PIhg7npyiZ_s",
        "colab_type": "code",
        "colab": {}
      },
      "cell_type": "code",
      "source": [
        "import pandas as pd\n",
        "import numpy as np\n",
        "import copy\n",
        "%matplotlib inline"
      ],
      "execution_count": 0,
      "outputs": []
    },
    {
      "metadata": {
        "id": "Hv-pCtmAiaDi",
        "colab_type": "code",
        "colab": {
          "base_uri": "https://localhost:8080/",
          "height": 204
        },
        "outputId": "48867458-537b-422d-d985-61ee0b311525"
      },
      "cell_type": "code",
      "source": [
        "df_flights = pd.read_csv('https://raw.githubusercontent.com/ismayc/pnwflights14/master/data/flights.csv')\n",
        "\n",
        "df_flights.head()"
      ],
      "execution_count": 410,
      "outputs": [
        {
          "output_type": "execute_result",
          "data": {
            "text/html": [
              "<div>\n",
              "<style scoped>\n",
              "    .dataframe tbody tr th:only-of-type {\n",
              "        vertical-align: middle;\n",
              "    }\n",
              "\n",
              "    .dataframe tbody tr th {\n",
              "        vertical-align: top;\n",
              "    }\n",
              "\n",
              "    .dataframe thead th {\n",
              "        text-align: right;\n",
              "    }\n",
              "</style>\n",
              "<table border=\"1\" class=\"dataframe\">\n",
              "  <thead>\n",
              "    <tr style=\"text-align: right;\">\n",
              "      <th></th>\n",
              "      <th>year</th>\n",
              "      <th>month</th>\n",
              "      <th>day</th>\n",
              "      <th>dep_time</th>\n",
              "      <th>dep_delay</th>\n",
              "      <th>arr_time</th>\n",
              "      <th>arr_delay</th>\n",
              "      <th>carrier</th>\n",
              "      <th>tailnum</th>\n",
              "      <th>flight</th>\n",
              "      <th>origin</th>\n",
              "      <th>dest</th>\n",
              "      <th>air_time</th>\n",
              "      <th>distance</th>\n",
              "      <th>hour</th>\n",
              "      <th>minute</th>\n",
              "    </tr>\n",
              "  </thead>\n",
              "  <tbody>\n",
              "    <tr>\n",
              "      <th>0</th>\n",
              "      <td>2014</td>\n",
              "      <td>1</td>\n",
              "      <td>1</td>\n",
              "      <td>1.0</td>\n",
              "      <td>96.0</td>\n",
              "      <td>235.0</td>\n",
              "      <td>70.0</td>\n",
              "      <td>AS</td>\n",
              "      <td>N508AS</td>\n",
              "      <td>145</td>\n",
              "      <td>PDX</td>\n",
              "      <td>ANC</td>\n",
              "      <td>194.0</td>\n",
              "      <td>1542</td>\n",
              "      <td>0.0</td>\n",
              "      <td>1.0</td>\n",
              "    </tr>\n",
              "    <tr>\n",
              "      <th>1</th>\n",
              "      <td>2014</td>\n",
              "      <td>1</td>\n",
              "      <td>1</td>\n",
              "      <td>4.0</td>\n",
              "      <td>-6.0</td>\n",
              "      <td>738.0</td>\n",
              "      <td>-23.0</td>\n",
              "      <td>US</td>\n",
              "      <td>N195UW</td>\n",
              "      <td>1830</td>\n",
              "      <td>SEA</td>\n",
              "      <td>CLT</td>\n",
              "      <td>252.0</td>\n",
              "      <td>2279</td>\n",
              "      <td>0.0</td>\n",
              "      <td>4.0</td>\n",
              "    </tr>\n",
              "    <tr>\n",
              "      <th>2</th>\n",
              "      <td>2014</td>\n",
              "      <td>1</td>\n",
              "      <td>1</td>\n",
              "      <td>8.0</td>\n",
              "      <td>13.0</td>\n",
              "      <td>548.0</td>\n",
              "      <td>-4.0</td>\n",
              "      <td>UA</td>\n",
              "      <td>N37422</td>\n",
              "      <td>1609</td>\n",
              "      <td>PDX</td>\n",
              "      <td>IAH</td>\n",
              "      <td>201.0</td>\n",
              "      <td>1825</td>\n",
              "      <td>0.0</td>\n",
              "      <td>8.0</td>\n",
              "    </tr>\n",
              "    <tr>\n",
              "      <th>3</th>\n",
              "      <td>2014</td>\n",
              "      <td>1</td>\n",
              "      <td>1</td>\n",
              "      <td>28.0</td>\n",
              "      <td>-2.0</td>\n",
              "      <td>800.0</td>\n",
              "      <td>-23.0</td>\n",
              "      <td>US</td>\n",
              "      <td>N547UW</td>\n",
              "      <td>466</td>\n",
              "      <td>PDX</td>\n",
              "      <td>CLT</td>\n",
              "      <td>251.0</td>\n",
              "      <td>2282</td>\n",
              "      <td>0.0</td>\n",
              "      <td>28.0</td>\n",
              "    </tr>\n",
              "    <tr>\n",
              "      <th>4</th>\n",
              "      <td>2014</td>\n",
              "      <td>1</td>\n",
              "      <td>1</td>\n",
              "      <td>34.0</td>\n",
              "      <td>44.0</td>\n",
              "      <td>325.0</td>\n",
              "      <td>43.0</td>\n",
              "      <td>AS</td>\n",
              "      <td>N762AS</td>\n",
              "      <td>121</td>\n",
              "      <td>SEA</td>\n",
              "      <td>ANC</td>\n",
              "      <td>201.0</td>\n",
              "      <td>1448</td>\n",
              "      <td>0.0</td>\n",
              "      <td>34.0</td>\n",
              "    </tr>\n",
              "  </tbody>\n",
              "</table>\n",
              "</div>"
            ],
            "text/plain": [
              "   year  month  day  dep_time  dep_delay  arr_time  arr_delay carrier tailnum  \\\n",
              "0  2014      1    1       1.0       96.0     235.0       70.0      AS  N508AS   \n",
              "1  2014      1    1       4.0       -6.0     738.0      -23.0      US  N195UW   \n",
              "2  2014      1    1       8.0       13.0     548.0       -4.0      UA  N37422   \n",
              "3  2014      1    1      28.0       -2.0     800.0      -23.0      US  N547UW   \n",
              "4  2014      1    1      34.0       44.0     325.0       43.0      AS  N762AS   \n",
              "\n",
              "   flight origin dest  air_time  distance  hour  minute  \n",
              "0     145    PDX  ANC     194.0      1542   0.0     1.0  \n",
              "1    1830    SEA  CLT     252.0      2279   0.0     4.0  \n",
              "2    1609    PDX  IAH     201.0      1825   0.0     8.0  \n",
              "3     466    PDX  CLT     251.0      2282   0.0    28.0  \n",
              "4     121    SEA  ANC     201.0      1448   0.0    34.0  "
            ]
          },
          "metadata": {
            "tags": []
          },
          "execution_count": 410
        }
      ]
    },
    {
      "metadata": {
        "id": "WeYF45oniaJO",
        "colab_type": "code",
        "colab": {
          "base_uri": "https://localhost:8080/",
          "height": 68
        },
        "outputId": "699fcac3-0c53-40da-bca2-1915c44006eb"
      },
      "cell_type": "code",
      "source": [
        "print(len(df_flights))\n",
        "print(df_flights.shape)\n",
        "print(df_flights.ndim)"
      ],
      "execution_count": 412,
      "outputs": [
        {
          "output_type": "stream",
          "text": [
            "162049\n",
            "(162049, 16)\n",
            "2\n"
          ],
          "name": "stdout"
        }
      ]
    },
    {
      "metadata": {
        "id": "bHc8gjW5pXYg",
        "colab_type": "text"
      },
      "cell_type": "markdown",
      "source": [
        "Note if you are reading the **RDS file** formats you can do so by installing **rpy2** library. "
      ]
    },
    {
      "metadata": {
        "id": "ihi1S-BuiaMf",
        "colab_type": "code",
        "colab": {
          "base_uri": "https://localhost:8080/",
          "height": 391
        },
        "outputId": "c708b803-f9ab-425c-f8e3-69dbbcac89ce"
      },
      "cell_type": "code",
      "source": [
        "print(df_flights.info())"
      ],
      "execution_count": 413,
      "outputs": [
        {
          "output_type": "stream",
          "text": [
            "<class 'pandas.core.frame.DataFrame'>\n",
            "RangeIndex: 162049 entries, 0 to 162048\n",
            "Data columns (total 16 columns):\n",
            "year         162049 non-null int64\n",
            "month        162049 non-null int64\n",
            "day          162049 non-null int64\n",
            "dep_time     161192 non-null float64\n",
            "dep_delay    161192 non-null float64\n",
            "arr_time     161061 non-null float64\n",
            "arr_delay    160748 non-null float64\n",
            "carrier      162049 non-null object\n",
            "tailnum      161801 non-null object\n",
            "flight       162049 non-null int64\n",
            "origin       162049 non-null object\n",
            "dest         162049 non-null object\n",
            "air_time     160748 non-null float64\n",
            "distance     162049 non-null int64\n",
            "hour         161192 non-null float64\n",
            "minute       161192 non-null float64\n",
            "dtypes: float64(7), int64(5), object(4)\n",
            "memory usage: 19.8+ MB\n",
            "None\n"
          ],
          "name": "stdout"
        }
      ]
    },
    {
      "metadata": {
        "id": "-ejmRE_gqtsg",
        "colab_type": "text"
      },
      "cell_type": "markdown",
      "source": [
        "\n",
        "\n",
        "```\n",
        "You can plot a boxplot by invoking .boxplot() on your DataFrame. Here, i will plot a boxplot of the dep_time column with respect to the two origin of the flights from **PDX** and **SEA**.\n",
        "```\n",
        "\n"
      ]
    },
    {
      "metadata": {
        "id": "XXTdbNGQxpdj",
        "colab_type": "code",
        "colab": {
          "base_uri": "https://localhost:8080/",
          "height": 454
        },
        "outputId": "176731c9-60ea-4f43-e865-30abf82893c5"
      },
      "cell_type": "code",
      "source": [
        "df_flights.boxplot('dep_time','origin',rot = 30,figsize=(5,6))"
      ],
      "execution_count": 434,
      "outputs": [
        {
          "output_type": "execute_result",
          "data": {
            "text/plain": [
              "<matplotlib.axes._subplots.AxesSubplot at 0x7f7fdd2f4fd0>"
            ]
          },
          "metadata": {
            "tags": []
          },
          "execution_count": 434
        },
        {
          "output_type": "display_data",
          "data": {
            "image/png": "[encoded data removed]",
            "text/plain": [
              "<Figure size 360x432 with 1 Axes>"
            ]
          },
          "metadata": {
            "tags": []
          }
        }
      ]
    },
    {
      "metadata": {
        "id": "Acz1SAcBiaQC",
        "colab_type": "code",
        "colab": {
          "base_uri": "https://localhost:8080/",
          "height": 477
        },
        "outputId": "7a692854-7ace-48da-8e48-266f2059078d"
      },
      "cell_type": "code",
      "source": [
        "df_flights.boxplot('dep_time','dest',rot = 30,figsize=(20,6))   # with destination "
      ],
      "execution_count": 430,
      "outputs": [
        {
          "output_type": "execute_result",
          "data": {
            "text/plain": [
              "<matplotlib.axes._subplots.AxesSubplot at 0x7f7fdda3e1d0>"
            ]
          },
          "metadata": {
            "tags": []
          },
          "execution_count": 430
        },
        {
          "output_type": "display_data",
          "data": {
            "image/png": "[encoded data removed]",
            "text/plain": [
              "<Figure size 1440x432 with 1 Axes>"
            ]
          },
          "metadata": {
            "tags": []
          }
        }
      ]
    },
    {
      "metadata": {
        "id": "TeowxsplrWvA",
        "colab_type": "code",
        "colab": {
          "base_uri": "https://localhost:8080/",
          "height": 456
        },
        "outputId": "6bc5c1b8-1e98-48fc-87cd-e50f775b17e3"
      },
      "cell_type": "code",
      "source": [
        "df_flights.boxplot('dep_time','origin',rot = 90,figsize=(5,6))  # here 'rot' is angle of origin keyword."
      ],
      "execution_count": 421,
      "outputs": [
        {
          "output_type": "execute_result",
          "data": {
            "text/plain": [
              "<matplotlib.axes._subplots.AxesSubplot at 0x7f7fde218cf8>"
            ]
          },
          "metadata": {
            "tags": []
          },
          "execution_count": 421
        },
        {
          "output_type": "display_data",
          "data": {
            "image/png": "[encoded data removed]",
            "text/plain": [
              "<Figure size 360x432 with 1 Axes>"
            ]
          },
          "metadata": {
            "tags": []
          }
        }
      ]
    },
    {
      "metadata": {
        "id": "oIKYyQIfsIy1",
        "colab_type": "text"
      },
      "cell_type": "markdown",
      "source": [
        "As you will only be dealing with categorical features in this tutorial, it's better to filter them out. You can create a separate DataFrame consisting of only these features by running the following command. The **method .copy()** is used here so that any changes made in new DataFrame don't get reflected in the original one."
      ]
    },
    {
      "metadata": {
        "id": "Dbphud3DiaTZ",
        "colab_type": "code",
        "colab": {}
      },
      "cell_type": "code",
      "source": [
        "cat_df_flights = df_flights.select_dtypes(include=['object']).copy()"
      ],
      "execution_count": 0,
      "outputs": []
    },
    {
      "metadata": {
        "id": "od24NjkZsVUn",
        "colab_type": "text"
      },
      "cell_type": "markdown",
      "source": [
        "\n",
        "\n",
        "```\n",
        "Again, use the .head() method to check if you have filtered the required columns.\n",
        "```\n",
        "\n"
      ]
    },
    {
      "metadata": {
        "id": "uM3CBXXdiaYz",
        "colab_type": "code",
        "colab": {
          "base_uri": "https://localhost:8080/",
          "height": 204
        },
        "outputId": "13e90c7c-5e1e-40e9-a062-7fbcf311825b"
      },
      "cell_type": "code",
      "source": [
        "cat_df_flights.head()"
      ],
      "execution_count": 424,
      "outputs": [
        {
          "output_type": "execute_result",
          "data": {
            "text/html": [
              "<div>\n",
              "<style scoped>\n",
              "    .dataframe tbody tr th:only-of-type {\n",
              "        vertical-align: middle;\n",
              "    }\n",
              "\n",
              "    .dataframe tbody tr th {\n",
              "        vertical-align: top;\n",
              "    }\n",
              "\n",
              "    .dataframe thead th {\n",
              "        text-align: right;\n",
              "    }\n",
              "</style>\n",
              "<table border=\"1\" class=\"dataframe\">\n",
              "  <thead>\n",
              "    <tr style=\"text-align: right;\">\n",
              "      <th></th>\n",
              "      <th>carrier</th>\n",
              "      <th>tailnum</th>\n",
              "      <th>origin</th>\n",
              "      <th>dest</th>\n",
              "    </tr>\n",
              "  </thead>\n",
              "  <tbody>\n",
              "    <tr>\n",
              "      <th>0</th>\n",
              "      <td>AS</td>\n",
              "      <td>N508AS</td>\n",
              "      <td>PDX</td>\n",
              "      <td>ANC</td>\n",
              "    </tr>\n",
              "    <tr>\n",
              "      <th>1</th>\n",
              "      <td>US</td>\n",
              "      <td>N195UW</td>\n",
              "      <td>SEA</td>\n",
              "      <td>CLT</td>\n",
              "    </tr>\n",
              "    <tr>\n",
              "      <th>2</th>\n",
              "      <td>UA</td>\n",
              "      <td>N37422</td>\n",
              "      <td>PDX</td>\n",
              "      <td>IAH</td>\n",
              "    </tr>\n",
              "    <tr>\n",
              "      <th>3</th>\n",
              "      <td>US</td>\n",
              "      <td>N547UW</td>\n",
              "      <td>PDX</td>\n",
              "      <td>CLT</td>\n",
              "    </tr>\n",
              "    <tr>\n",
              "      <th>4</th>\n",
              "      <td>AS</td>\n",
              "      <td>N762AS</td>\n",
              "      <td>SEA</td>\n",
              "      <td>ANC</td>\n",
              "    </tr>\n",
              "  </tbody>\n",
              "</table>\n",
              "</div>"
            ],
            "text/plain": [
              "  carrier tailnum origin dest\n",
              "0      AS  N508AS    PDX  ANC\n",
              "1      US  N195UW    SEA  CLT\n",
              "2      UA  N37422    PDX  IAH\n",
              "3      US  N547UW    PDX  CLT\n",
              "4      AS  N762AS    SEA  ANC"
            ]
          },
          "metadata": {
            "tags": []
          },
          "execution_count": 424
        }
      ]
    },
    {
      "metadata": {
        "id": "0Bhd9tUVsocp",
        "colab_type": "text"
      },
      "cell_type": "markdown",
      "source": [
        "\n",
        "\n",
        "```\n",
        "One of the most common data pre-processing steps is to check for null values in the dataset.\n",
        "\n",
        "You can get the total number of missing values in the DataFrame by the following one liner code:\n",
        "```\n",
        "\n"
      ]
    },
    {
      "metadata": {
        "id": "rEVa1aN2iacI",
        "colab_type": "code",
        "colab": {
          "base_uri": "https://localhost:8080/",
          "height": 34
        },
        "outputId": "ae520f9b-90f7-464f-83a5-548eae0ef1d8"
      },
      "cell_type": "code",
      "source": [
        "cat_df_flights.isnull().values.sum()"
      ],
      "execution_count": 425,
      "outputs": [
        {
          "output_type": "execute_result",
          "data": {
            "text/plain": [
              "248"
            ]
          },
          "metadata": {
            "tags": []
          },
          "execution_count": 425
        }
      ]
    },
    {
      "metadata": {
        "id": "lSeCjno7s4vu",
        "colab_type": "text"
      },
      "cell_type": "markdown",
      "source": [
        "\n",
        "\n",
        "```\n",
        "Let's also check the column-wise distribution of null values:\n",
        "```\n",
        "\n"
      ]
    },
    {
      "metadata": {
        "id": "ivWctqxqiae2",
        "colab_type": "code",
        "colab": {
          "base_uri": "https://localhost:8080/",
          "height": 102
        },
        "outputId": "644a21e5-ae98-4f45-c423-4fac5a6d5245"
      },
      "cell_type": "code",
      "source": [
        "cat_df_flights.isnull().sum()"
      ],
      "execution_count": 426,
      "outputs": [
        {
          "output_type": "execute_result",
          "data": {
            "text/plain": [
              "carrier      0\n",
              "tailnum    248\n",
              "origin       0\n",
              "dest         0\n",
              "dtype: int64"
            ]
          },
          "metadata": {
            "tags": []
          },
          "execution_count": 426
        }
      ]
    },
    {
      "metadata": {
        "id": "g33frpC0wlLd",
        "colab_type": "text"
      },
      "cell_type": "markdown",
      "source": [
        "It seems that only the tailnum column has null values. \n",
        "\n",
        "The function fillna() is handy for such operations."
      ]
    },
    {
      "metadata": {
        "id": "j3w72l7HyN4C",
        "colab_type": "text"
      },
      "cell_type": "markdown",
      "source": [
        "\n",
        "\n",
        "```\n",
        ".value_counts() in the code below , returns the frequency distribution of each category in the feature,\n",
        "\n",
        "means , how many times 'tailnum's fearture is being repeated.\n",
        "```\n",
        "\n"
      ]
    },
    {
      "metadata": {
        "id": "usReeufEiaWq",
        "colab_type": "code",
        "colab": {
          "base_uri": "https://localhost:8080/",
          "height": 221
        },
        "outputId": "52d8dfec-83a9-4675-c0cf-11fee9998677"
      },
      "cell_type": "code",
      "source": [
        "print(len(cat_df_flights['tailnum'].value_counts()))\n",
        "print(cat_df_flights['tailnum'].value_counts()[:10])"
      ],
      "execution_count": 437,
      "outputs": [
        {
          "output_type": "stream",
          "text": [
            "3022\n",
            "N223AG    755\n",
            "N218AG    749\n",
            "N219AG    744\n",
            "N614AS    738\n",
            "N611AS    723\n",
            "N224AG    713\n",
            "N607AS    708\n",
            "N619AS    696\n",
            "N613AS    694\n",
            "N644AS    691\n",
            "Name: tailnum, dtype: int64\n"
          ],
          "name": "stdout"
        }
      ]
    },
    {
      "metadata": {
        "id": "53EO9AZTyr8j",
        "colab_type": "code",
        "colab": {
          "base_uri": "https://localhost:8080/",
          "height": 34
        },
        "outputId": "f341fc95-b1dc-459c-b745-14b0776be4ce"
      },
      "cell_type": "code",
      "source": [
        "cat_df_flights['tailnum'].value_counts().index[0]"
      ],
      "execution_count": 438,
      "outputs": [
        {
          "output_type": "execute_result",
          "data": {
            "text/plain": [
              "'N223AG'"
            ]
          },
          "metadata": {
            "tags": []
          },
          "execution_count": 438
        }
      ]
    },
    {
      "metadata": {
        "id": "w9fbjndIzYMK",
        "colab_type": "text"
      },
      "cell_type": "markdown",
      "source": [
        "\n",
        "\n",
        "```\n",
        "Now i am gonna fill all the null slots with 'N223AG' in tailnum feature.\n",
        "```\n",
        "\n"
      ]
    },
    {
      "metadata": {
        "id": "lJdAjClOiaGp",
        "colab_type": "code",
        "colab": {
          "base_uri": "https://localhost:8080/",
          "height": 204
        },
        "outputId": "131d8419-3398-41f3-da55-db56393bac76"
      },
      "cell_type": "code",
      "source": [
        "cat_df_flights = cat_df_flights.fillna(cat_df_flights['tailnum'].value_counts().index[0])\n",
        "cat_df_flights.head()  "
      ],
      "execution_count": 440,
      "outputs": [
        {
          "output_type": "execute_result",
          "data": {
            "text/html": [
              "<div>\n",
              "<style scoped>\n",
              "    .dataframe tbody tr th:only-of-type {\n",
              "        vertical-align: middle;\n",
              "    }\n",
              "\n",
              "    .dataframe tbody tr th {\n",
              "        vertical-align: top;\n",
              "    }\n",
              "\n",
              "    .dataframe thead th {\n",
              "        text-align: right;\n",
              "    }\n",
              "</style>\n",
              "<table border=\"1\" class=\"dataframe\">\n",
              "  <thead>\n",
              "    <tr style=\"text-align: right;\">\n",
              "      <th></th>\n",
              "      <th>carrier</th>\n",
              "      <th>tailnum</th>\n",
              "      <th>origin</th>\n",
              "      <th>dest</th>\n",
              "    </tr>\n",
              "  </thead>\n",
              "  <tbody>\n",
              "    <tr>\n",
              "      <th>0</th>\n",
              "      <td>AS</td>\n",
              "      <td>N508AS</td>\n",
              "      <td>PDX</td>\n",
              "      <td>ANC</td>\n",
              "    </tr>\n",
              "    <tr>\n",
              "      <th>1</th>\n",
              "      <td>US</td>\n",
              "      <td>N195UW</td>\n",
              "      <td>SEA</td>\n",
              "      <td>CLT</td>\n",
              "    </tr>\n",
              "    <tr>\n",
              "      <th>2</th>\n",
              "      <td>UA</td>\n",
              "      <td>N37422</td>\n",
              "      <td>PDX</td>\n",
              "      <td>IAH</td>\n",
              "    </tr>\n",
              "    <tr>\n",
              "      <th>3</th>\n",
              "      <td>US</td>\n",
              "      <td>N547UW</td>\n",
              "      <td>PDX</td>\n",
              "      <td>CLT</td>\n",
              "    </tr>\n",
              "    <tr>\n",
              "      <th>4</th>\n",
              "      <td>AS</td>\n",
              "      <td>N762AS</td>\n",
              "      <td>SEA</td>\n",
              "      <td>ANC</td>\n",
              "    </tr>\n",
              "  </tbody>\n",
              "</table>\n",
              "</div>"
            ],
            "text/plain": [
              "  carrier tailnum origin dest\n",
              "0      AS  N508AS    PDX  ANC\n",
              "1      US  N195UW    SEA  CLT\n",
              "2      UA  N37422    PDX  IAH\n",
              "3      US  N547UW    PDX  CLT\n",
              "4      AS  N762AS    SEA  ANC"
            ]
          },
          "metadata": {
            "tags": []
          },
          "execution_count": 440
        }
      ]
    },
    {
      "metadata": {
        "id": "TJvBxKSpzKGt",
        "colab_type": "code",
        "colab": {
          "base_uri": "https://localhost:8080/",
          "height": 221
        },
        "outputId": "b7995279-3967-45a7-cac2-ec38d1d6277b"
      },
      "cell_type": "code",
      "source": [
        "print(len(cat_df_flights['tailnum'].value_counts()))\n",
        "print(cat_df_flights['tailnum'].value_counts()[:10])    #755+248"
      ],
      "execution_count": 441,
      "outputs": [
        {
          "output_type": "stream",
          "text": [
            "3022\n",
            "N223AG    1003\n",
            "N218AG     749\n",
            "N219AG     744\n",
            "N614AS     738\n",
            "N611AS     723\n",
            "N224AG     713\n",
            "N607AS     708\n",
            "N619AS     696\n",
            "N613AS     694\n",
            "N644AS     691\n",
            "Name: tailnum, dtype: int64\n"
          ],
          "name": "stdout"
        }
      ]
    },
    {
      "metadata": {
        "id": "iBU34zRo0G_G",
        "colab_type": "text"
      },
      "cell_type": "markdown",
      "source": [
        "\n",
        "\n",
        "```\n",
        "Let's check the number of null values after imputation\n",
        "```\n",
        "\n"
      ]
    },
    {
      "metadata": {
        "id": "qbi_ji99zKKG",
        "colab_type": "code",
        "colab": {
          "base_uri": "https://localhost:8080/",
          "height": 34
        },
        "outputId": "e8ef22a4-9568-41f8-9531-d15ac582e097"
      },
      "cell_type": "code",
      "source": [
        "print(cat_df_flights.isnull().values.sum())"
      ],
      "execution_count": 442,
      "outputs": [
        {
          "output_type": "stream",
          "text": [
            "0\n"
          ],
          "name": "stdout"
        }
      ]
    },
    {
      "metadata": {
        "id": "Fp2ijbIt0mgx",
        "colab_type": "text"
      },
      "cell_type": "markdown",
      "source": [
        "#To check the frequency distribution of categories within the feature"
      ]
    },
    {
      "metadata": {
        "id": "MihBylsB0YBa",
        "colab_type": "code",
        "colab": {
          "base_uri": "https://localhost:8080/",
          "height": 238
        },
        "outputId": "6cc31161-e232-45b4-bcac-e3ff508fbe9d"
      },
      "cell_type": "code",
      "source": [
        "print(cat_df_flights['carrier'].value_counts())  # No. of frequencies of a perticular category\n",
        "print(cat_df_flights['carrier'].value_counts().sum()) # total no. of categorical variables in a feature 'carrier'"
      ],
      "execution_count": 521,
      "outputs": [
        {
          "output_type": "stream",
          "text": [
            "AS    62460\n",
            "WN    23355\n",
            "OO    18710\n",
            "DL    16716\n",
            "UA    16671\n",
            "AA     7586\n",
            "US     5946\n",
            "B6     3540\n",
            "VX     3272\n",
            "F9     2698\n",
            "HA     1095\n",
            "Name: carrier, dtype: int64\n",
            "162049\n"
          ],
          "name": "stdout"
        }
      ]
    },
    {
      "metadata": {
        "id": "trLfN6zO0pvi",
        "colab_type": "text"
      },
      "cell_type": "markdown",
      "source": [
        "\n",
        "\n",
        "```\n",
        "To know the count of distinct categories within the feature you can chain the previous code with the .count() method:\n",
        "```\n",
        "\n"
      ]
    },
    {
      "metadata": {
        "id": "u37LhKJJzKRM",
        "colab_type": "code",
        "colab": {
          "base_uri": "https://localhost:8080/",
          "height": 34
        },
        "outputId": "b98b0a3a-effa-459a-992f-7bbaf85ebfc9"
      },
      "cell_type": "code",
      "source": [
        "cat_df_flights['carrier'].value_counts().count()"
      ],
      "execution_count": 444,
      "outputs": [
        {
          "output_type": "execute_result",
          "data": {
            "text/plain": [
              "11"
            ]
          },
          "metadata": {
            "tags": []
          },
          "execution_count": 444
        }
      ]
    },
    {
      "metadata": {
        "id": "RoaoXMdkzKc4",
        "colab_type": "code",
        "colab": {
          "base_uri": "https://localhost:8080/",
          "height": 51
        },
        "outputId": "4c0d44d2-37fc-44da-a644-bf9003593c78"
      },
      "cell_type": "code",
      "source": [
        "cat_df_flights['carrier'].value_counts().values"
      ],
      "execution_count": 445,
      "outputs": [
        {
          "output_type": "execute_result",
          "data": {
            "text/plain": [
              "array([62460, 23355, 18710, 16716, 16671,  7586,  5946,  3540,  3272,\n",
              "        2698,  1095])"
            ]
          },
          "metadata": {
            "tags": []
          },
          "execution_count": 445
        }
      ]
    },
    {
      "metadata": {
        "id": "49NfCqUo2KrW",
        "colab_type": "text"
      },
      "cell_type": "markdown",
      "source": [
        "\n",
        "\n",
        "```\n",
        "Below is a basic template to plot a barplot of the frequency distribution of a categorical feature using the seaborn package, which shows the frequency distribution of the carrier column.\n",
        "```\n",
        "\n"
      ]
    },
    {
      "metadata": {
        "id": "Kh4c8ExQzKbV",
        "colab_type": "code",
        "colab": {
          "base_uri": "https://localhost:8080/",
          "height": 378
        },
        "outputId": "43032a5c-b8de-4a8f-f973-f6f98f212a34"
      },
      "cell_type": "code",
      "source": [
        "%matplotlib inline\n",
        "import seaborn as sns\n",
        "import matplotlib.pyplot as plt\n",
        "carrier_count = cat_df_flights['carrier'].value_counts()\n",
        "sns.set(style=\"darkgrid\")\n",
        "sns.barplot(carrier_count.index, carrier_count.values, alpha=0.9)\n",
        "plt.title('Frequency Distribution of Carriers')\n",
        "plt.ylabel('Number of Occurrences', fontsize=12)\n",
        "plt.xlabel('Carrier', fontsize=12)\n",
        "plt.show()"
      ],
      "execution_count": 450,
      "outputs": [
        {
          "output_type": "display_data",
          "data": {
            "image/png": "[encoded data removed]",
            "text/plain": [
              "<Figure size 576x396 with 1 Axes>"
            ]
          },
          "metadata": {
            "tags": []
          }
        }
      ]
    },
    {
      "metadata": {
        "id": "p_CLhMPj2a34",
        "colab_type": "code",
        "colab": {
          "base_uri": "https://localhost:8080/",
          "height": 136
        },
        "outputId": "39aa0c45-05dd-4ee5-9cec-db34f5529b13"
      },
      "cell_type": "code",
      "source": [
        "cat_df_flights['carrier'].astype('category')[:5]"
      ],
      "execution_count": 456,
      "outputs": [
        {
          "output_type": "execute_result",
          "data": {
            "text/plain": [
              "0    AS\n",
              "1    US\n",
              "2    UA\n",
              "3    US\n",
              "4    AS\n",
              "Name: carrier, dtype: category\n",
              "Categories (11, object): [AA, AS, B6, DL, ..., UA, US, VX, WN]"
            ]
          },
          "metadata": {
            "tags": []
          },
          "execution_count": 456
        }
      ]
    },
    {
      "metadata": {
        "id": "4RjYHfON2a2B",
        "colab_type": "code",
        "colab": {
          "base_uri": "https://localhost:8080/",
          "height": 34
        },
        "outputId": "46c6e26b-d28e-4ddd-ac4c-526d6e37f01f"
      },
      "cell_type": "code",
      "source": [
        "cat_df_flights['carrier'].astype('category').cat"
      ],
      "execution_count": 459,
      "outputs": [
        {
          "output_type": "execute_result",
          "data": {
            "text/plain": [
              "<pandas.core.categorical.CategoricalAccessor object at 0x7f7fdcf8bbe0>"
            ]
          },
          "metadata": {
            "tags": []
          },
          "execution_count": 459
        }
      ]
    },
    {
      "metadata": {
        "id": "mvOEsgBA2ayX",
        "colab_type": "code",
        "colab": {
          "base_uri": "https://localhost:8080/",
          "height": 34
        },
        "outputId": "93fde324-f47b-4da5-ee51-28b43d031966"
      },
      "cell_type": "code",
      "source": [
        "cat_df_flights['carrier'].astype('category').cat.categories"
      ],
      "execution_count": 460,
      "outputs": [
        {
          "output_type": "execute_result",
          "data": {
            "text/plain": [
              "Index(['AA', 'AS', 'B6', 'DL', 'F9', 'HA', 'OO', 'UA', 'US', 'VX', 'WN'], dtype='object')"
            ]
          },
          "metadata": {
            "tags": []
          },
          "execution_count": 460
        }
      ]
    },
    {
      "metadata": {
        "id": "e92qO_262ath",
        "colab_type": "code",
        "colab": {
          "base_uri": "https://localhost:8080/",
          "height": 34
        },
        "outputId": "0fbcc010-d7a9-493f-e3f5-6081a40b0ed3"
      },
      "cell_type": "code",
      "source": [
        "cat_df_flights['carrier'].astype('category').cat.categories.tolist()  # convert it into a list"
      ],
      "execution_count": 461,
      "outputs": [
        {
          "output_type": "execute_result",
          "data": {
            "text/plain": [
              "['AA', 'AS', 'B6', 'DL', 'F9', 'HA', 'OO', 'UA', 'US', 'VX', 'WN']"
            ]
          },
          "metadata": {
            "tags": []
          },
          "execution_count": 461
        }
      ]
    },
    {
      "metadata": {
        "id": "6GEzANMPzKZ7",
        "colab_type": "code",
        "colab": {
          "base_uri": "https://localhost:8080/",
          "height": 338
        },
        "outputId": "4dec9a73-e394-46aa-de95-01d07f43e946"
      },
      "cell_type": "code",
      "source": [
        "labels = cat_df_flights['carrier'].astype('category').cat.categories.tolist()\n",
        "counts = cat_df_flights['carrier'].value_counts()\n",
        "frequency = [counts[var_cat] for var_cat in labels]\n",
        "fig1, ax1 = plt.subplots()\n",
        "ax1.pie(frequency, labels=labels, autopct='%1.1f%%', shadow=True) #autopct is show the % on plot\n",
        "ax1.axis('equal')\n",
        "plt.show()"
      ],
      "execution_count": 465,
      "outputs": [
        {
          "output_type": "display_data",
          "data": {
            "image/png": "[encoded data removed]",
            "text/plain": [
              "<Figure size 576x396 with 1 Axes>"
            ]
          },
          "metadata": {
            "tags": []
          }
        }
      ]
    },
    {
      "metadata": {
        "id": "dfBPu2N53n_W",
        "colab_type": "text"
      },
      "cell_type": "markdown",
      "source": [
        "#Encoding Categorical Data\n",
        "\n",
        "\n",
        "\n",
        "```\n",
        " encode the categorical features to numeric quantities.\n",
        "```\n",
        "\n"
      ]
    },
    {
      "metadata": {
        "id": "gSBg91yh320a",
        "colab_type": "text"
      },
      "cell_type": "markdown",
      "source": [
        "Here we have the several  techniques to convert categorical data into numerical format are  the following:\n",
        "\n",
        "Replacing values\n",
        "\n",
        "Encoding labels\n",
        "\n",
        "One-Hot encoding\n",
        "\n",
        "Binary encoding\n",
        "\n",
        "Backward difference encoding\n",
        "\n",
        "Miscellaneous features"
      ]
    },
    {
      "metadata": {
        "id": "HtOFgWm64TP9",
        "colab_type": "text"
      },
      "cell_type": "markdown",
      "source": [
        "#Replace Values"
      ]
    },
    {
      "metadata": {
        "id": "_WbU445M4mFv",
        "colab_type": "text"
      },
      "cell_type": "markdown",
      "source": [
        "\n",
        "\n",
        "```\n",
        "Let's start with the most basic method, which is just replacing the categories with the desired numbers. \n",
        "\n",
        "This can be achieved with the help of the replace() function in pandas.\n",
        "\n",
        "The idea is that you have the liberty to choose whatever numbers you want to assign to the categories.\n",
        "\n",
        "You will now create a dictionary which contains mapping numbers for each category in the carrier column:\n",
        "```\n",
        "\n"
      ]
    },
    {
      "metadata": {
        "id": "--K2FnBxzKYg",
        "colab_type": "code",
        "colab": {}
      },
      "cell_type": "code",
      "source": [
        "replace_map = {'carrier': {'AA': 1, 'AS': 2, 'B6': 3, 'DL': 4,\n",
        "                                  'F9': 5, 'HA': 6, 'OO': 7 , 'UA': 8 , 'US': 9,'VX': 10,'WN': 11}}"
      ],
      "execution_count": 0,
      "outputs": []
    },
    {
      "metadata": {
        "id": "iXIdLLnA4_xQ",
        "colab_type": "text"
      },
      "cell_type": "markdown",
      "source": [
        "\n",
        "\n",
        "```\n",
        "Note that defining a mapping via a hard coded dictionary is easy when the number of categories is low, like in this case which is 11.\n",
        "\n",
        "But if count is high then, we have to think another method .The method is \n",
        " store the category names in a list called **labels** and then **zip** it to a seqeunce of numbers and iterate over it\n",
        "```\n",
        "\n"
      ]
    },
    {
      "metadata": {
        "id": "_O92sVNVzKW5",
        "colab_type": "code",
        "colab": {
          "base_uri": "https://localhost:8080/",
          "height": 34
        },
        "outputId": "d9e556a8-0b6a-4f4a-c4b6-7a4b68a04fe0"
      },
      "cell_type": "code",
      "source": [
        "labels = cat_df_flights['carrier'].astype('category').cat.categories.tolist()\n",
        "labels"
      ],
      "execution_count": 468,
      "outputs": [
        {
          "output_type": "execute_result",
          "data": {
            "text/plain": [
              "['AA', 'AS', 'B6', 'DL', 'F9', 'HA', 'OO', 'UA', 'US', 'VX', 'WN']"
            ]
          },
          "metadata": {
            "tags": []
          },
          "execution_count": 468
        }
      ]
    },
    {
      "metadata": {
        "id": "nEY5YD8M5wO3",
        "colab_type": "code",
        "colab": {
          "base_uri": "https://localhost:8080/",
          "height": 34
        },
        "outputId": "4dfdfa3b-61a7-4396-f919-1c6101af50ab"
      },
      "cell_type": "code",
      "source": [
        "k= zip(labels,list(range(1,len(labels)+1)))\n",
        "print(k)"
      ],
      "execution_count": 472,
      "outputs": [
        {
          "output_type": "stream",
          "text": [
            "<zip object at 0x7f7fdcfbe148>\n"
          ],
          "name": "stdout"
        }
      ]
    },
    {
      "metadata": {
        "id": "M-hJ6B425wLD",
        "colab_type": "code",
        "colab": {
          "base_uri": "https://localhost:8080/",
          "height": 204
        },
        "outputId": "3d0bd994-248f-4973-bd9d-9abe9e69111a"
      },
      "cell_type": "code",
      "source": [
        "for k,v in zip(labels,list(range(1,len(labels)+1))):\n",
        "  print(str(k) +\":\"+ str(v))"
      ],
      "execution_count": 481,
      "outputs": [
        {
          "output_type": "stream",
          "text": [
            "AA:1\n",
            "AS:2\n",
            "B6:3\n",
            "DL:4\n",
            "F9:5\n",
            "HA:6\n",
            "OO:7\n",
            "UA:8\n",
            "US:9\n",
            "VX:10\n",
            "WN:11\n"
          ],
          "name": "stdout"
        }
      ]
    },
    {
      "metadata": {
        "id": "b1XbGfOUzKUW",
        "colab_type": "code",
        "colab": {
          "base_uri": "https://localhost:8080/",
          "height": 34
        },
        "outputId": "bac4426c-a2a5-4603-a60c-3bebb9006b63"
      },
      "cell_type": "code",
      "source": [
        "replace_map_comp = {'carrier' : {k: v for k,v in zip(labels,list(range(1,len(labels)+1)))}}\n",
        "\n",
        "print(replace_map_comp)"
      ],
      "execution_count": 482,
      "outputs": [
        {
          "output_type": "stream",
          "text": [
            "{'carrier': {'AA': 1, 'AS': 2, 'B6': 3, 'DL': 4, 'F9': 5, 'HA': 6, 'OO': 7, 'UA': 8, 'US': 9, 'VX': 10, 'WN': 11}}\n"
          ],
          "name": "stdout"
        }
      ]
    },
    {
      "metadata": {
        "id": "MDSd9ffo8Koa",
        "colab_type": "text"
      },
      "cell_type": "markdown",
      "source": [
        "\n",
        "\n",
        "```\n",
        "Throughout this tutorial, you will be making a copy of the dataset via the .copy() method to practice each encoding technique to ensure that the original DataFrame stays intact and whatever changes you are doing happen only in the copied one.\n",
        "```\n",
        "\n"
      ]
    },
    {
      "metadata": {
        "id": "Im97xUJLzKPD",
        "colab_type": "code",
        "colab": {}
      },
      "cell_type": "code",
      "source": [
        "cat_df_flights_replace = cat_df_flights.copy()"
      ],
      "execution_count": 0,
      "outputs": []
    },
    {
      "metadata": {
        "id": "GSjd9ZYO8UaP",
        "colab_type": "text"
      },
      "cell_type": "markdown",
      "source": [
        "\n",
        "\n",
        "```\n",
        "Use the replace() function on the DataFrame by passing the mapping dictionary as argument:\n",
        "```\n",
        "\n"
      ]
    },
    {
      "metadata": {
        "id": "gIe-s6Kw8fBB",
        "colab_type": "code",
        "colab": {
          "base_uri": "https://localhost:8080/",
          "height": 119
        },
        "outputId": "a09a1fe6-3aba-4779-9d90-ba079ac443ae"
      },
      "cell_type": "code",
      "source": [
        "cat_df_flights_replace.replace(replace_map_comp, inplace=True)\n",
        "\n",
        "print(cat_df_flights_replace.head())  # Convert categorical data into numerical values."
      ],
      "execution_count": 484,
      "outputs": [
        {
          "output_type": "stream",
          "text": [
            "   carrier tailnum origin dest\n",
            "0        2  N508AS    PDX  ANC\n",
            "1        9  N195UW    SEA  CLT\n",
            "2        8  N37422    PDX  IAH\n",
            "3        9  N547UW    PDX  CLT\n",
            "4        2  N762AS    SEA  ANC\n"
          ],
          "name": "stdout"
        }
      ]
    },
    {
      "metadata": {
        "id": "KbMkJ2td8wUd",
        "colab_type": "text"
      },
      "cell_type": "markdown",
      "source": [
        "As you can observe, we have encoded the categories with the mapped numbers"
      ]
    },
    {
      "metadata": {
        "id": "BfnxccWo8osN",
        "colab_type": "code",
        "colab": {
          "base_uri": "https://localhost:8080/",
          "height": 34
        },
        "outputId": "f30382ed-775f-4d50-f267-fd8ad100b4f4"
      },
      "cell_type": "code",
      "source": [
        "print(cat_df_flights_replace['carrier'].dtypes)   # previously the data type of 'carrier' feature was 'Object'"
      ],
      "execution_count": 485,
      "outputs": [
        {
          "output_type": "stream",
          "text": [
            "int64\n"
          ],
          "name": "stdout"
        }
      ]
    },
    {
      "metadata": {
        "id": "7D4-Xy6x9Jre",
        "colab_type": "text"
      },
      "cell_type": "markdown",
      "source": [
        "Tip: in Python, it's a good practice to typecast **All categorical features** to a category dtype because they make the operations on such columns much faster than the object dtype. You can do the typecasting by using  ** .astype() ** method on your columns like shown below:"
      ]
    },
    {
      "metadata": {
        "id": "iE8jhexF8o54",
        "colab_type": "code",
        "colab": {}
      },
      "cell_type": "code",
      "source": [
        "cat_df_flights_lc = cat_df_flights.copy()"
      ],
      "execution_count": 0,
      "outputs": []
    },
    {
      "metadata": {
        "id": "UzprEPoX8pAV",
        "colab_type": "code",
        "colab": {
          "base_uri": "https://localhost:8080/",
          "height": 102
        },
        "outputId": "3c393cb9-1306-4b1e-fd5e-f3cb972ac681"
      },
      "cell_type": "code",
      "source": [
        "cat_df_flights_lc['carrier'] = cat_df_flights_lc['carrier'].astype('category')\n",
        "cat_df_flights_lc['origin'] = cat_df_flights_lc['origin'].astype('category')                                                              \n",
        "\n",
        "print(cat_df_flights_lc.dtypes)"
      ],
      "execution_count": 501,
      "outputs": [
        {
          "output_type": "stream",
          "text": [
            "carrier    category\n",
            "tailnum      object\n",
            "origin     category\n",
            "dest         object\n",
            "dtype: object\n"
          ],
          "name": "stdout"
        }
      ]
    },
    {
      "metadata": {
        "id": "vJ_dp9QL90zi",
        "colab_type": "text"
      },
      "cell_type": "markdown",
      "source": [
        "\n",
        "\n",
        "```\n",
        "You can validate the faster operation of the category dtype by timing the execution time of the same operation done on a DataFrame with columns as category dtype and object dtype by using the time library.\n",
        "```\n",
        "\n"
      ]
    },
    {
      "metadata": {
        "id": "xTac4bTZ98po",
        "colab_type": "text"
      },
      "cell_type": "markdown",
      "source": [
        "\n",
        "\n",
        "```\n",
        "Let's say you want to calculate the number of flights for each carrier from each origin places, you can use the .groupby() and .count() methods on your DataFrame to do so.\n",
        "```\n",
        "\n"
      ]
    },
    {
      "metadata": {
        "id": "wityi64_90P0",
        "colab_type": "code",
        "colab": {
          "base_uri": "https://localhost:8080/",
          "height": 34
        },
        "outputId": "90ae1f91-00d7-4e23-ea25-e9cf8109b046"
      },
      "cell_type": "code",
      "source": [
        "import time\n",
        "%timeit cat_df_flights.groupby(['origin','carrier']).count() #DataFrame with object dtype columns  # more time "
      ],
      "execution_count": 493,
      "outputs": [
        {
          "output_type": "stream",
          "text": [
            "10 loops, best of 3: 32.1 ms per loop\n"
          ],
          "name": "stdout"
        }
      ]
    },
    {
      "metadata": {
        "id": "nytzNxnj8o4H",
        "colab_type": "code",
        "colab": {
          "base_uri": "https://localhost:8080/",
          "height": 34
        },
        "outputId": "6db8a7dd-8105-4655-aef6-4840b392a5dc"
      },
      "cell_type": "code",
      "source": [
        "%timeit cat_df_flights_lc.groupby(['origin','carrier']).count() #DataFrame with category dtype columns    # less time "
      ],
      "execution_count": 494,
      "outputs": [
        {
          "output_type": "stream",
          "text": [
            "10 loops, best of 3: 23.8 ms per loop\n"
          ],
          "name": "stdout"
        }
      ]
    },
    {
      "metadata": {
        "id": "YgIzQCLJ-RVO",
        "colab_type": "text"
      },
      "cell_type": "markdown",
      "source": [
        "Note that the DataFrame with category dtype is much faster."
      ]
    },
    {
      "metadata": {
        "id": "3LCjhgs2RoW8",
        "colab_type": "text"
      },
      "cell_type": "markdown",
      "source": [
        "#Label Encoding"
      ]
    },
    {
      "metadata": {
        "id": "FAbpjWVQRzqV",
        "colab_type": "text"
      },
      "cell_type": "markdown",
      "source": [
        "Another approach is to encode categorical values with a technique called \"label encoding\", which allows you to convert each value in a column to a number. \n",
        "\n",
        "Numerical labels are always between 0 and n_categories-1."
      ]
    },
    {
      "metadata": {
        "id": "LUKzGzPFR7Rm",
        "colab_type": "text"
      },
      "cell_type": "markdown",
      "source": [
        "You can do label encoding via attributes **.cat.codes** on your DataFrame's column"
      ]
    },
    {
      "metadata": {
        "id": "rpUGzINASxKp",
        "colab_type": "code",
        "colab": {
          "base_uri": "https://localhost:8080/",
          "height": 34
        },
        "outputId": "478b2b75-d6b4-425f-9d35-de449d9c9bc7"
      },
      "cell_type": "code",
      "source": [
        "cat_df_flights_lc['carrier'].value_counts().count()    # Let's calculate the No. of categoracal variable  in a feature."
      ],
      "execution_count": 510,
      "outputs": [
        {
          "output_type": "execute_result",
          "data": {
            "text/plain": [
              "11"
            ]
          },
          "metadata": {
            "tags": []
          },
          "execution_count": 510
        }
      ]
    },
    {
      "metadata": {
        "id": "NHBE1u8HSW4j",
        "colab_type": "code",
        "colab": {
          "base_uri": "https://localhost:8080/",
          "height": 119
        },
        "outputId": "8ecfe7aa-9c3d-4646-eded-eb7278c8de3f"
      },
      "cell_type": "code",
      "source": [
        "cat_df_flights_lc['carrier'].cat.codes[:5]"
      ],
      "execution_count": 504,
      "outputs": [
        {
          "output_type": "execute_result",
          "data": {
            "text/plain": [
              "0    1\n",
              "1    8\n",
              "2    7\n",
              "3    8\n",
              "4    1\n",
              "dtype: int8"
            ]
          },
          "metadata": {
            "tags": []
          },
          "execution_count": 504
        }
      ]
    },
    {
      "metadata": {
        "id": "sumQMpiT8o2b",
        "colab_type": "code",
        "colab": {}
      },
      "cell_type": "code",
      "source": [
        "cat_df_flights_lc['carrier'] = cat_df_flights_lc['carrier'].cat.codes"
      ],
      "execution_count": 0,
      "outputs": []
    },
    {
      "metadata": {
        "id": "EDsP1Zre8o0c",
        "colab_type": "code",
        "colab": {
          "base_uri": "https://localhost:8080/",
          "height": 204
        },
        "outputId": "39cce3b0-b28f-4def-bdd4-a534619cb163"
      },
      "cell_type": "code",
      "source": [
        "cat_df_flights_lc.head() #alphabetically labeled from 0 to 10"
      ],
      "execution_count": 512,
      "outputs": [
        {
          "output_type": "execute_result",
          "data": {
            "text/html": [
              "<div>\n",
              "<style scoped>\n",
              "    .dataframe tbody tr th:only-of-type {\n",
              "        vertical-align: middle;\n",
              "    }\n",
              "\n",
              "    .dataframe tbody tr th {\n",
              "        vertical-align: top;\n",
              "    }\n",
              "\n",
              "    .dataframe thead th {\n",
              "        text-align: right;\n",
              "    }\n",
              "</style>\n",
              "<table border=\"1\" class=\"dataframe\">\n",
              "  <thead>\n",
              "    <tr style=\"text-align: right;\">\n",
              "      <th></th>\n",
              "      <th>carrier</th>\n",
              "      <th>tailnum</th>\n",
              "      <th>origin</th>\n",
              "      <th>dest</th>\n",
              "    </tr>\n",
              "  </thead>\n",
              "  <tbody>\n",
              "    <tr>\n",
              "      <th>0</th>\n",
              "      <td>1</td>\n",
              "      <td>N508AS</td>\n",
              "      <td>PDX</td>\n",
              "      <td>ANC</td>\n",
              "    </tr>\n",
              "    <tr>\n",
              "      <th>1</th>\n",
              "      <td>8</td>\n",
              "      <td>N195UW</td>\n",
              "      <td>SEA</td>\n",
              "      <td>CLT</td>\n",
              "    </tr>\n",
              "    <tr>\n",
              "      <th>2</th>\n",
              "      <td>7</td>\n",
              "      <td>N37422</td>\n",
              "      <td>PDX</td>\n",
              "      <td>IAH</td>\n",
              "    </tr>\n",
              "    <tr>\n",
              "      <th>3</th>\n",
              "      <td>8</td>\n",
              "      <td>N547UW</td>\n",
              "      <td>PDX</td>\n",
              "      <td>CLT</td>\n",
              "    </tr>\n",
              "    <tr>\n",
              "      <th>4</th>\n",
              "      <td>1</td>\n",
              "      <td>N762AS</td>\n",
              "      <td>SEA</td>\n",
              "      <td>ANC</td>\n",
              "    </tr>\n",
              "  </tbody>\n",
              "</table>\n",
              "</div>"
            ],
            "text/plain": [
              "   carrier tailnum origin dest\n",
              "0        1  N508AS    PDX  ANC\n",
              "1        8  N195UW    SEA  CLT\n",
              "2        7  N37422    PDX  IAH\n",
              "3        8  N547UW    PDX  CLT\n",
              "4        1  N762AS    SEA  ANC"
            ]
          },
          "metadata": {
            "tags": []
          },
          "execution_count": 512
        }
      ]
    },
    {
      "metadata": {
        "id": "Y-yTKUoxTkPy",
        "colab_type": "text"
      },
      "cell_type": "markdown",
      "source": [
        "\n",
        "\n",
        "```\n",
        "Sometimes, you might just want to encode a bunch of categories within a feature to some numeric value and encode all the other categories to some other numeric value.\n",
        "\n",
        "You could do this by using numpy's where() function like shown below. You will encode all the US carrier flights to value 1 and other carriers to value 0. This will create a new column in your DataFrame with the encodings. Later, if you want to drop the original column, you can do so by using the drop() function in pandas.\n",
        "```\n",
        "\n"
      ]
    },
    {
      "metadata": {
        "id": "BIdstDAKTyUL",
        "colab_type": "code",
        "colab": {}
      },
      "cell_type": "code",
      "source": [
        "cat_df_flights_specific = cat_df_flights.copy()"
      ],
      "execution_count": 0,
      "outputs": []
    },
    {
      "metadata": {
        "id": "O604QeBbTvZj",
        "colab_type": "code",
        "colab": {
          "base_uri": "https://localhost:8080/",
          "height": 119
        },
        "outputId": "ad01542e-6560-4a3a-a61a-ed98d827b9e9"
      },
      "cell_type": "code",
      "source": [
        "cat_df_flights_specific['carrier'].str.contains('US')[:5]"
      ],
      "execution_count": 530,
      "outputs": [
        {
          "output_type": "execute_result",
          "data": {
            "text/plain": [
              "0    False\n",
              "1     True\n",
              "2    False\n",
              "3     True\n",
              "4    False\n",
              "Name: carrier, dtype: bool"
            ]
          },
          "metadata": {
            "tags": []
          },
          "execution_count": 530
        }
      ]
    },
    {
      "metadata": {
        "id": "S5jjXblKT3IT",
        "colab_type": "code",
        "colab": {
          "base_uri": "https://localhost:8080/",
          "height": 68
        },
        "outputId": "4eda6e79-b486-4bfe-efc4-2041d5c38f44"
      },
      "cell_type": "code",
      "source": [
        "cat_df_flights_specific['carrier'].str.contains('US').value_counts()  # how many flights of 'US' == 5946"
      ],
      "execution_count": 518,
      "outputs": [
        {
          "output_type": "execute_result",
          "data": {
            "text/plain": [
              "False    156103\n",
              "True       5946\n",
              "Name: carrier, dtype: int64"
            ]
          },
          "metadata": {
            "tags": []
          },
          "execution_count": 518
        }
      ]
    },
    {
      "metadata": {
        "id": "0Q8kcK3lUWvm",
        "colab_type": "code",
        "colab": {
          "base_uri": "https://localhost:8080/",
          "height": 34
        },
        "outputId": "2d8a202d-b5f6-453b-92c3-b90da3fbee96"
      },
      "cell_type": "code",
      "source": [
        "cat_df_flights_specific['carrier'].str.contains('US').count()  # Total  categories in the single column"
      ],
      "execution_count": 519,
      "outputs": [
        {
          "output_type": "execute_result",
          "data": {
            "text/plain": [
              "162049"
            ]
          },
          "metadata": {
            "tags": []
          },
          "execution_count": 519
        }
      ]
    },
    {
      "metadata": {
        "id": "zC4MWUHwT3D-",
        "colab_type": "code",
        "colab": {}
      },
      "cell_type": "code",
      "source": [
        ""
      ],
      "execution_count": 0,
      "outputs": []
    },
    {
      "metadata": {
        "id": "n-ZI4V4G8oyz",
        "colab_type": "code",
        "colab": {
          "base_uri": "https://localhost:8080/",
          "height": 204
        },
        "outputId": "e303e890-9f86-4cf8-b962-812eb3124219"
      },
      "cell_type": "code",
      "source": [
        "\n",
        "cat_df_flights_specific['US_code'] = np.where(cat_df_flights_specific['carrier'].str.contains('US'), 1, 0)     # assign 1 for 'True' and 0 for 'False'\n",
        "\n",
        "cat_df_flights_specific.head() "
      ],
      "execution_count": 522,
      "outputs": [
        {
          "output_type": "execute_result",
          "data": {
            "text/html": [
              "<div>\n",
              "<style scoped>\n",
              "    .dataframe tbody tr th:only-of-type {\n",
              "        vertical-align: middle;\n",
              "    }\n",
              "\n",
              "    .dataframe tbody tr th {\n",
              "        vertical-align: top;\n",
              "    }\n",
              "\n",
              "    .dataframe thead th {\n",
              "        text-align: right;\n",
              "    }\n",
              "</style>\n",
              "<table border=\"1\" class=\"dataframe\">\n",
              "  <thead>\n",
              "    <tr style=\"text-align: right;\">\n",
              "      <th></th>\n",
              "      <th>carrier</th>\n",
              "      <th>tailnum</th>\n",
              "      <th>origin</th>\n",
              "      <th>dest</th>\n",
              "      <th>US_code</th>\n",
              "    </tr>\n",
              "  </thead>\n",
              "  <tbody>\n",
              "    <tr>\n",
              "      <th>0</th>\n",
              "      <td>AS</td>\n",
              "      <td>N508AS</td>\n",
              "      <td>PDX</td>\n",
              "      <td>ANC</td>\n",
              "      <td>0</td>\n",
              "    </tr>\n",
              "    <tr>\n",
              "      <th>1</th>\n",
              "      <td>US</td>\n",
              "      <td>N195UW</td>\n",
              "      <td>SEA</td>\n",
              "      <td>CLT</td>\n",
              "      <td>1</td>\n",
              "    </tr>\n",
              "    <tr>\n",
              "      <th>2</th>\n",
              "      <td>UA</td>\n",
              "      <td>N37422</td>\n",
              "      <td>PDX</td>\n",
              "      <td>IAH</td>\n",
              "      <td>0</td>\n",
              "    </tr>\n",
              "    <tr>\n",
              "      <th>3</th>\n",
              "      <td>US</td>\n",
              "      <td>N547UW</td>\n",
              "      <td>PDX</td>\n",
              "      <td>CLT</td>\n",
              "      <td>1</td>\n",
              "    </tr>\n",
              "    <tr>\n",
              "      <th>4</th>\n",
              "      <td>AS</td>\n",
              "      <td>N762AS</td>\n",
              "      <td>SEA</td>\n",
              "      <td>ANC</td>\n",
              "      <td>0</td>\n",
              "    </tr>\n",
              "  </tbody>\n",
              "</table>\n",
              "</div>"
            ],
            "text/plain": [
              "  carrier tailnum origin dest  US_code\n",
              "0      AS  N508AS    PDX  ANC        0\n",
              "1      US  N195UW    SEA  CLT        1\n",
              "2      UA  N37422    PDX  IAH        0\n",
              "3      US  N547UW    PDX  CLT        1\n",
              "4      AS  N762AS    SEA  ANC        0"
            ]
          },
          "metadata": {
            "tags": []
          },
          "execution_count": 522
        }
      ]
    },
    {
      "metadata": {
        "id": "mgAHSOuFVceP",
        "colab_type": "text"
      },
      "cell_type": "markdown",
      "source": [
        "**Method 2: using Machine learning**\n",
        "\n",
        "```\n",
        "You can achieve the same label encoding using scikit-learn's LabelEncoder\n",
        "```\n",
        "\n"
      ]
    },
    {
      "metadata": {
        "id": "l9hUibE_8owG",
        "colab_type": "code",
        "colab": {}
      },
      "cell_type": "code",
      "source": [
        "cat_df_flights_sklearn = cat_df_flights.copy()\n",
        "\n",
        "from sklearn.preprocessing import LabelEncoder"
      ],
      "execution_count": 0,
      "outputs": []
    },
    {
      "metadata": {
        "id": "PZCs1E7FzKNb",
        "colab_type": "code",
        "colab": {
          "base_uri": "https://localhost:8080/",
          "height": 204
        },
        "outputId": "ef330e21-a300-4efb-c1c8-ef094734f381"
      },
      "cell_type": "code",
      "source": [
        "lb_make = LabelEncoder()   # make the constructor\n",
        "cat_df_flights_sklearn['carrier_code'] = lb_make.fit_transform(cat_df_flights['carrier'])\n",
        "\n",
        "cat_df_flights_sklearn.head() #Results in appending a new column to df"
      ],
      "execution_count": 524,
      "outputs": [
        {
          "output_type": "execute_result",
          "data": {
            "text/html": [
              "<div>\n",
              "<style scoped>\n",
              "    .dataframe tbody tr th:only-of-type {\n",
              "        vertical-align: middle;\n",
              "    }\n",
              "\n",
              "    .dataframe tbody tr th {\n",
              "        vertical-align: top;\n",
              "    }\n",
              "\n",
              "    .dataframe thead th {\n",
              "        text-align: right;\n",
              "    }\n",
              "</style>\n",
              "<table border=\"1\" class=\"dataframe\">\n",
              "  <thead>\n",
              "    <tr style=\"text-align: right;\">\n",
              "      <th></th>\n",
              "      <th>carrier</th>\n",
              "      <th>tailnum</th>\n",
              "      <th>origin</th>\n",
              "      <th>dest</th>\n",
              "      <th>carrier_code</th>\n",
              "    </tr>\n",
              "  </thead>\n",
              "  <tbody>\n",
              "    <tr>\n",
              "      <th>0</th>\n",
              "      <td>AS</td>\n",
              "      <td>N508AS</td>\n",
              "      <td>PDX</td>\n",
              "      <td>ANC</td>\n",
              "      <td>1</td>\n",
              "    </tr>\n",
              "    <tr>\n",
              "      <th>1</th>\n",
              "      <td>US</td>\n",
              "      <td>N195UW</td>\n",
              "      <td>SEA</td>\n",
              "      <td>CLT</td>\n",
              "      <td>8</td>\n",
              "    </tr>\n",
              "    <tr>\n",
              "      <th>2</th>\n",
              "      <td>UA</td>\n",
              "      <td>N37422</td>\n",
              "      <td>PDX</td>\n",
              "      <td>IAH</td>\n",
              "      <td>7</td>\n",
              "    </tr>\n",
              "    <tr>\n",
              "      <th>3</th>\n",
              "      <td>US</td>\n",
              "      <td>N547UW</td>\n",
              "      <td>PDX</td>\n",
              "      <td>CLT</td>\n",
              "      <td>8</td>\n",
              "    </tr>\n",
              "    <tr>\n",
              "      <th>4</th>\n",
              "      <td>AS</td>\n",
              "      <td>N762AS</td>\n",
              "      <td>SEA</td>\n",
              "      <td>ANC</td>\n",
              "      <td>1</td>\n",
              "    </tr>\n",
              "  </tbody>\n",
              "</table>\n",
              "</div>"
            ],
            "text/plain": [
              "  carrier tailnum origin dest  carrier_code\n",
              "0      AS  N508AS    PDX  ANC             1\n",
              "1      US  N195UW    SEA  CLT             8\n",
              "2      UA  N37422    PDX  IAH             7\n",
              "3      US  N547UW    PDX  CLT             8\n",
              "4      AS  N762AS    SEA  ANC             1"
            ]
          },
          "metadata": {
            "tags": []
          },
          "execution_count": 524
        }
      ]
    },
    {
      "metadata": {
        "id": "OJUCj6r3XcHk",
        "colab_type": "text"
      },
      "cell_type": "markdown",
      "source": [
        "\n",
        "\n",
        "```\n",
        "Label encoding is pretty much intuitive and straight-forward and may give you a good performance from your learning algorithm, but it has as disadvantage that the numerical values can be misinterpreted by the algorithm. Should the carrier US (encoded to 8) be given 8x more weight than the carrier AS (encoded to 1) ?\n",
        "\n",
        "To solve this issue there is another popular way to encode the categories via something called one-hot encoding.\n",
        "```\n",
        "\n"
      ]
    },
    {
      "metadata": {
        "id": "SNh-lDlpXfFh",
        "colab_type": "text"
      },
      "cell_type": "markdown",
      "source": [
        "#One-Hot encoding"
      ]
    },
    {
      "metadata": {
        "id": "QsU9HX_oXqnM",
        "colab_type": "text"
      },
      "cell_type": "markdown",
      "source": [
        "\n",
        "\n",
        "```\n",
        "The basic strategy is to convert each category value into a new column and assign a 1 or 0 (True/False) value to the column\n",
        "```\n",
        "\n"
      ]
    },
    {
      "metadata": {
        "id": "1O2eRbKVX0lG",
        "colab_type": "text"
      },
      "cell_type": "markdown",
      "source": [
        "\n",
        "\n",
        "```\n",
        "There are many libraries out there that support one-hot encoding .\n",
        "\n",
        "but the simplest one is using pandas' .get_dummies() method\n",
        "```\n",
        "\n"
      ]
    },
    {
      "metadata": {
        "id": "V9T0eTvKYJGv",
        "colab_type": "text"
      },
      "cell_type": "markdown",
      "source": [
        "\n",
        "\n",
        "```\n",
        "This function is named this way because it creates dummy/indicator variables (1 or 0). There are mainly three arguments important here, the first one is the DataFrame you want to encode on, second being the columns argument which lets you specify the columns you want to do encoding on, and third, the prefix argument which lets you specify the prefix for the new columns that will be created after encoding.\n",
        "```\n",
        "\n"
      ]
    },
    {
      "metadata": {
        "id": "pCHSyDciV8Fs",
        "colab_type": "code",
        "colab": {
          "base_uri": "https://localhost:8080/",
          "height": 357
        },
        "outputId": "3e3f38a5-e463-4c0f-93c0-0883c92c8982"
      },
      "cell_type": "code",
      "source": [
        "cat_df_flights_onehot = cat_df_flights.copy()\n",
        "cat_df_flights_onehot = pd.get_dummies(cat_df_flights_onehot, columns=['carrier'], prefix = ['carrier'])\n",
        "\n",
        "print(cat_df_flights_onehot.head())"
      ],
      "execution_count": 525,
      "outputs": [
        {
          "output_type": "stream",
          "text": [
            "  tailnum origin dest  carrier_AA  carrier_AS  carrier_B6  carrier_DL  \\\n",
            "0  N508AS    PDX  ANC           0           1           0           0   \n",
            "1  N195UW    SEA  CLT           0           0           0           0   \n",
            "2  N37422    PDX  IAH           0           0           0           0   \n",
            "3  N547UW    PDX  CLT           0           0           0           0   \n",
            "4  N762AS    SEA  ANC           0           1           0           0   \n",
            "\n",
            "   carrier_F9  carrier_HA  carrier_OO  carrier_UA  carrier_US  carrier_VX  \\\n",
            "0           0           0           0           0           0           0   \n",
            "1           0           0           0           0           1           0   \n",
            "2           0           0           0           1           0           0   \n",
            "3           0           0           0           0           1           0   \n",
            "4           0           0           0           0           0           0   \n",
            "\n",
            "   carrier_WN  \n",
            "0           0  \n",
            "1           0  \n",
            "2           0  \n",
            "3           0  \n",
            "4           0  \n"
          ],
          "name": "stdout"
        }
      ]
    },
    {
      "metadata": {
        "id": "dDUu5E0YY0J0",
        "colab_type": "text"
      },
      "cell_type": "markdown",
      "source": [
        "As you can see, the column carrier_AS gets value 1 at the 0th and 4th observation points as those points had the AS category labeled in the original DataFrame. Likewise for other columns also."
      ]
    },
    {
      "metadata": {
        "id": "-Fwwki6-ZB4Q",
        "colab_type": "text"
      },
      "cell_type": "markdown",
      "source": [
        "\n",
        "\n",
        "```\n",
        "scikit-learn also supports one hot encoding via LabelBinarizer and OneHotEncoder in its preprocessing module (check out the details here). Just for the sake of practicing you will do the same encoding via LabelBinarizer:\n",
        "```\n",
        "\n"
      ]
    },
    {
      "metadata": {
        "id": "I684Ilt-V8M5",
        "colab_type": "code",
        "colab": {}
      },
      "cell_type": "code",
      "source": [
        "cat_df_flights_onehot_sklearn = cat_df_flights.copy()\n",
        "\n",
        "from sklearn.preprocessing import LabelBinarizer"
      ],
      "execution_count": 0,
      "outputs": []
    },
    {
      "metadata": {
        "id": "hIoj0NacV8bI",
        "colab_type": "code",
        "colab": {
          "base_uri": "https://localhost:8080/",
          "height": 119
        },
        "outputId": "42fa2dc4-b9ae-43cb-a120-98b6d71494e8"
      },
      "cell_type": "code",
      "source": [
        "lb = LabelBinarizer()\n",
        "lb_results = lb.fit_transform(cat_df_flights_onehot_sklearn['carrier'])\n",
        "lb_results_df = pd.DataFrame(lb_results, columns=lb.classes_)\n",
        "\n",
        "print(lb_results_df.head())"
      ],
      "execution_count": 527,
      "outputs": [
        {
          "output_type": "stream",
          "text": [
            "   AA  AS  B6  DL  F9  HA  OO  UA  US  VX  WN\n",
            "0   0   1   0   0   0   0   0   0   0   0   0\n",
            "1   0   0   0   0   0   0   0   0   1   0   0\n",
            "2   0   0   0   0   0   0   0   1   0   0   0\n",
            "3   0   0   0   0   0   0   0   0   1   0   0\n",
            "4   0   1   0   0   0   0   0   0   0   0   0\n"
          ],
          "name": "stdout"
        }
      ]
    },
    {
      "metadata": {
        "id": "gC8xzUDgZsj8",
        "colab_type": "text"
      },
      "cell_type": "markdown",
      "source": [
        "Note that this lb_results_df resulted in a new DataFrame with only the one hot encodings for the feature carrier. This needs to be concatenated back with the original DataFrame, which can be done via pandas' .concat() method. The axis argument is set to 1 as you want to merge on columns."
      ]
    },
    {
      "metadata": {
        "id": "bHcC_iZxV8YJ",
        "colab_type": "code",
        "colab": {
          "base_uri": "https://localhost:8080/",
          "height": 119
        },
        "outputId": "6313333b-8e5d-4019-9637-c5df94f9df48"
      },
      "cell_type": "code",
      "source": [
        "result_df = pd.concat([cat_df_flights_onehot_sklearn, lb_results_df], axis=1)\n",
        "\n",
        "print(result_df.head())"
      ],
      "execution_count": 528,
      "outputs": [
        {
          "output_type": "stream",
          "text": [
            "  carrier tailnum origin dest  AA  AS  B6  DL  F9  HA  OO  UA  US  VX  WN\n",
            "0      AS  N508AS    PDX  ANC   0   1   0   0   0   0   0   0   0   0   0\n",
            "1      US  N195UW    SEA  CLT   0   0   0   0   0   0   0   0   1   0   0\n",
            "2      UA  N37422    PDX  IAH   0   0   0   0   0   0   0   1   0   0   0\n",
            "3      US  N547UW    PDX  CLT   0   0   0   0   0   0   0   0   1   0   0\n",
            "4      AS  N762AS    SEA  ANC   0   1   0   0   0   0   0   0   0   0   0\n"
          ],
          "name": "stdout"
        }
      ]
    },
    {
      "metadata": {
        "id": "9WKSte2Xo746",
        "colab_type": "text"
      },
      "cell_type": "markdown",
      "source": [
        "#Binary Encoding"
      ]
    },
    {
      "metadata": {
        "id": "ojlA1OdYpHpg",
        "colab_type": "text"
      },
      "cell_type": "markdown",
      "source": [
        "\n",
        "\n",
        "```\n",
        "This technique is not as intuitive as the previous ones.\n",
        "\n",
        "In this technique, first the categories are encoded as ordinal,\n",
        "\n",
        "then those integers are converted into binary code, \n",
        "\n",
        "then the digits from that binary string are split into separate columns.\n",
        "This encodes the data in fewer dimensions than one-hot.\n",
        "```\n",
        "\n"
      ]
    },
    {
      "metadata": {
        "id": "LbNbVAGvpkC5",
        "colab_type": "text"
      },
      "cell_type": "markdown",
      "source": [
        "\n",
        "\n",
        "```\n",
        "You can do binary encoding via a number of ways but the simplest one is using the **category_encoders **library.\n",
        "```\n",
        "\n"
      ]
    },
    {
      "metadata": {
        "id": "Hlp40N2ap2Ah",
        "colab_type": "text"
      },
      "cell_type": "markdown",
      "source": [
        "\n",
        "\n",
        "```\n",
        "You have to first import the category_encoders library after installing it. Invoke the BinaryEncoder function by specifying the columns you want to encode and then call the .fit_transform() method on it with the DataFrame as the argument.\n",
        "```\n",
        "\n"
      ]
    },
    {
      "metadata": {
        "id": "wvatFyHSp-nm",
        "colab_type": "code",
        "colab": {
          "base_uri": "https://localhost:8080/",
          "height": 275
        },
        "outputId": "0e9a6680-b1e5-41df-d285-2b0837d40efb"
      },
      "cell_type": "code",
      "source": [
        "!pip install category_encoders"
      ],
      "execution_count": 532,
      "outputs": [
        {
          "output_type": "stream",
          "text": [
            "Collecting category_encoders\n",
            "\u001b[?25l  Downloading https://files.pythonhosted.org/packages/f7/d3/82a4b85a87ece114f6d0139d643580c726efa45fa4db3b81aed38c0156c5/category_encoders-1.3.0-py2.py3-none-any.whl (61kB)\n",
            "\u001b[K    100% |████████████████████████████████| 61kB 2.9MB/s \n",
            "\u001b[?25hRequirement already satisfied: pandas>=0.20.1 in /usr/local/lib/python3.6/dist-packages (from category_encoders) (0.22.0)\n",
            "Requirement already satisfied: numpy>=1.11.1 in /usr/local/lib/python3.6/dist-packages (from category_encoders) (1.14.6)\n",
            "Requirement already satisfied: patsy>=0.4.1 in /usr/local/lib/python3.6/dist-packages (from category_encoders) (0.5.1)\n",
            "Requirement already satisfied: scikit-learn>=0.17.1 in /usr/local/lib/python3.6/dist-packages (from category_encoders) (0.20.2)\n",
            "Requirement already satisfied: statsmodels>=0.6.1 in /usr/local/lib/python3.6/dist-packages (from category_encoders) (0.8.0)\n",
            "Requirement already satisfied: scipy>=0.17.0 in /usr/local/lib/python3.6/dist-packages (from category_encoders) (1.1.0)\n",
            "Requirement already satisfied: pytz>=2011k in /usr/local/lib/python3.6/dist-packages (from pandas>=0.20.1->category_encoders) (2018.9)\n",
            "Requirement already satisfied: python-dateutil>=2 in /usr/local/lib/python3.6/dist-packages (from pandas>=0.20.1->category_encoders) (2.5.3)\n",
            "Requirement already satisfied: six in /usr/local/lib/python3.6/dist-packages (from patsy>=0.4.1->category_encoders) (1.11.0)\n",
            "Installing collected packages: category-encoders\n",
            "Successfully installed category-encoders-1.3.0\n"
          ],
          "name": "stdout"
        }
      ]
    },
    {
      "metadata": {
        "id": "i6fe0Y3RqLEo",
        "colab_type": "code",
        "colab": {}
      },
      "cell_type": "code",
      "source": [
        "cat_df_flights_ce = cat_df_flights.copy()\n",
        "\n",
        "import category_encoders as ce"
      ],
      "execution_count": 0,
      "outputs": []
    },
    {
      "metadata": {
        "id": "tn7CLg0HqQ0M",
        "colab_type": "code",
        "colab": {
          "base_uri": "https://localhost:8080/",
          "height": 51
        },
        "outputId": "1b933e0f-f284-4567-c741-8e9b40dd62ce"
      },
      "cell_type": "code",
      "source": [
        "encoder = ce.BinaryEncoder(cols=['carrier'])\n",
        "print(encoder)"
      ],
      "execution_count": 539,
      "outputs": [
        {
          "output_type": "stream",
          "text": [
            "BinaryEncoder(cols=['carrier'], drop_invariant=False, handle_unknown='impute',\n",
            "       impute_missing=True, return_df=True, verbose=0)\n"
          ],
          "name": "stdout"
        }
      ]
    },
    {
      "metadata": {
        "id": "_JPdDclUV8WG",
        "colab_type": "code",
        "colab": {
          "base_uri": "https://localhost:8080/",
          "height": 204
        },
        "outputId": "a9eff04c-9c1e-42fb-9032-281f2535a0ad"
      },
      "cell_type": "code",
      "source": [
        "df_binary = encoder.fit_transform(cat_df_flights_ce)\n",
        "df_binary.head()"
      ],
      "execution_count": 540,
      "outputs": [
        {
          "output_type": "execute_result",
          "data": {
            "text/html": [
              "<div>\n",
              "<style scoped>\n",
              "    .dataframe tbody tr th:only-of-type {\n",
              "        vertical-align: middle;\n",
              "    }\n",
              "\n",
              "    .dataframe tbody tr th {\n",
              "        vertical-align: top;\n",
              "    }\n",
              "\n",
              "    .dataframe thead th {\n",
              "        text-align: right;\n",
              "    }\n",
              "</style>\n",
              "<table border=\"1\" class=\"dataframe\">\n",
              "  <thead>\n",
              "    <tr style=\"text-align: right;\">\n",
              "      <th></th>\n",
              "      <th>carrier_0</th>\n",
              "      <th>carrier_1</th>\n",
              "      <th>carrier_2</th>\n",
              "      <th>carrier_3</th>\n",
              "      <th>carrier_4</th>\n",
              "      <th>tailnum</th>\n",
              "      <th>origin</th>\n",
              "      <th>dest</th>\n",
              "    </tr>\n",
              "  </thead>\n",
              "  <tbody>\n",
              "    <tr>\n",
              "      <th>0</th>\n",
              "      <td>0</td>\n",
              "      <td>0</td>\n",
              "      <td>0</td>\n",
              "      <td>0</td>\n",
              "      <td>1</td>\n",
              "      <td>N508AS</td>\n",
              "      <td>PDX</td>\n",
              "      <td>ANC</td>\n",
              "    </tr>\n",
              "    <tr>\n",
              "      <th>1</th>\n",
              "      <td>0</td>\n",
              "      <td>0</td>\n",
              "      <td>0</td>\n",
              "      <td>1</td>\n",
              "      <td>0</td>\n",
              "      <td>N195UW</td>\n",
              "      <td>SEA</td>\n",
              "      <td>CLT</td>\n",
              "    </tr>\n",
              "    <tr>\n",
              "      <th>2</th>\n",
              "      <td>0</td>\n",
              "      <td>0</td>\n",
              "      <td>0</td>\n",
              "      <td>1</td>\n",
              "      <td>1</td>\n",
              "      <td>N37422</td>\n",
              "      <td>PDX</td>\n",
              "      <td>IAH</td>\n",
              "    </tr>\n",
              "    <tr>\n",
              "      <th>3</th>\n",
              "      <td>0</td>\n",
              "      <td>0</td>\n",
              "      <td>0</td>\n",
              "      <td>1</td>\n",
              "      <td>0</td>\n",
              "      <td>N547UW</td>\n",
              "      <td>PDX</td>\n",
              "      <td>CLT</td>\n",
              "    </tr>\n",
              "    <tr>\n",
              "      <th>4</th>\n",
              "      <td>0</td>\n",
              "      <td>0</td>\n",
              "      <td>0</td>\n",
              "      <td>0</td>\n",
              "      <td>1</td>\n",
              "      <td>N762AS</td>\n",
              "      <td>SEA</td>\n",
              "      <td>ANC</td>\n",
              "    </tr>\n",
              "  </tbody>\n",
              "</table>\n",
              "</div>"
            ],
            "text/plain": [
              "   carrier_0  carrier_1  carrier_2  carrier_3  carrier_4 tailnum origin dest\n",
              "0          0          0          0          0          1  N508AS    PDX  ANC\n",
              "1          0          0          0          1          0  N195UW    SEA  CLT\n",
              "2          0          0          0          1          1  N37422    PDX  IAH\n",
              "3          0          0          0          1          0  N547UW    PDX  CLT\n",
              "4          0          0          0          0          1  N762AS    SEA  ANC"
            ]
          },
          "metadata": {
            "tags": []
          },
          "execution_count": 540
        }
      ]
    },
    {
      "metadata": {
        "id": "qiw3Cx6OrHhD",
        "colab_type": "text"
      },
      "cell_type": "markdown",
      "source": [
        "Notice that four new columns are created in place of the carrier column with binary encoding for each category in the feature."
      ]
    },
    {
      "metadata": {
        "id": "80lIh1HbrDOM",
        "colab_type": "text"
      },
      "cell_type": "markdown",
      "source": [
        "\n",
        "\n",
        "```\n",
        "Note that category_encoders is a very useful library for encoding categorical columns. Not only does it support one-hot, binary and label encoding, but also other advanced encoding methods like Helmert contrast, polynomial contrast, backward difference, etc.\n",
        "```\n",
        "\n"
      ]
    },
    {
      "metadata": {
        "id": "Zjjj4S0irehe",
        "colab_type": "text"
      },
      "cell_type": "markdown",
      "source": [
        "#5. Backward Difference Encoding"
      ]
    },
    {
      "metadata": {
        "id": "WRRJUbCNsvHT",
        "colab_type": "text"
      },
      "cell_type": "markdown",
      "source": [
        "This technique falls under the contrast coding system for categorical features."
      ]
    },
    {
      "metadata": {
        "id": "Ar1ZHTMstQkk",
        "colab_type": "text"
      },
      "cell_type": "markdown",
      "source": [
        "A feature of K categories, or levels, usually enters a regression as a sequence of K-1 dummy variables.\n",
        "\n",
        "In backward difference coding, the mean of the dependent variable for a level is compared with the mean of the dependent variable for the prior level. \n",
        "\n",
        "This type of coding may be useful for a nominal or an ordinal variable."
      ]
    },
    {
      "metadata": {
        "id": "qjwDlyTTtaOD",
        "colab_type": "text"
      },
      "cell_type": "markdown",
      "source": [
        "The code structure is pretty much the same as any method in the category_encoders library, \n",
        "\n",
        "just this time you will call BackwardDifferenceEncoder from it:"
      ]
    },
    {
      "metadata": {
        "id": "iVS_3dLCV8UK",
        "colab_type": "code",
        "colab": {
          "base_uri": "https://localhost:8080/",
          "height": 204
        },
        "outputId": "4f4eac2e-779b-45ec-dd2c-01f0e0e64e28"
      },
      "cell_type": "code",
      "source": [
        "encoder = ce.BackwardDifferenceEncoder(cols=['carrier'])\n",
        "df_bd = encoder.fit_transform(cat_df_flights_ce)\n",
        "\n",
        "df_bd.head()"
      ],
      "execution_count": 541,
      "outputs": [
        {
          "output_type": "execute_result",
          "data": {
            "text/html": [
              "<div>\n",
              "<style scoped>\n",
              "    .dataframe tbody tr th:only-of-type {\n",
              "        vertical-align: middle;\n",
              "    }\n",
              "\n",
              "    .dataframe tbody tr th {\n",
              "        vertical-align: top;\n",
              "    }\n",
              "\n",
              "    .dataframe thead th {\n",
              "        text-align: right;\n",
              "    }\n",
              "</style>\n",
              "<table border=\"1\" class=\"dataframe\">\n",
              "  <thead>\n",
              "    <tr style=\"text-align: right;\">\n",
              "      <th></th>\n",
              "      <th>intercept</th>\n",
              "      <th>carrier_0</th>\n",
              "      <th>carrier_1</th>\n",
              "      <th>carrier_2</th>\n",
              "      <th>carrier_3</th>\n",
              "      <th>carrier_4</th>\n",
              "      <th>carrier_5</th>\n",
              "      <th>carrier_6</th>\n",
              "      <th>carrier_7</th>\n",
              "      <th>carrier_8</th>\n",
              "      <th>carrier_9</th>\n",
              "      <th>tailnum</th>\n",
              "      <th>origin</th>\n",
              "      <th>dest</th>\n",
              "    </tr>\n",
              "  </thead>\n",
              "  <tbody>\n",
              "    <tr>\n",
              "      <th>0</th>\n",
              "      <td>1</td>\n",
              "      <td>-0.909091</td>\n",
              "      <td>-0.818182</td>\n",
              "      <td>-0.727273</td>\n",
              "      <td>-0.636364</td>\n",
              "      <td>-0.545455</td>\n",
              "      <td>-0.454545</td>\n",
              "      <td>-0.363636</td>\n",
              "      <td>-0.272727</td>\n",
              "      <td>-0.181818</td>\n",
              "      <td>-0.090909</td>\n",
              "      <td>N508AS</td>\n",
              "      <td>PDX</td>\n",
              "      <td>ANC</td>\n",
              "    </tr>\n",
              "    <tr>\n",
              "      <th>1</th>\n",
              "      <td>1</td>\n",
              "      <td>0.090909</td>\n",
              "      <td>-0.818182</td>\n",
              "      <td>-0.727273</td>\n",
              "      <td>-0.636364</td>\n",
              "      <td>-0.545455</td>\n",
              "      <td>-0.454545</td>\n",
              "      <td>-0.363636</td>\n",
              "      <td>-0.272727</td>\n",
              "      <td>-0.181818</td>\n",
              "      <td>-0.090909</td>\n",
              "      <td>N195UW</td>\n",
              "      <td>SEA</td>\n",
              "      <td>CLT</td>\n",
              "    </tr>\n",
              "    <tr>\n",
              "      <th>2</th>\n",
              "      <td>1</td>\n",
              "      <td>0.090909</td>\n",
              "      <td>0.181818</td>\n",
              "      <td>-0.727273</td>\n",
              "      <td>-0.636364</td>\n",
              "      <td>-0.545455</td>\n",
              "      <td>-0.454545</td>\n",
              "      <td>-0.363636</td>\n",
              "      <td>-0.272727</td>\n",
              "      <td>-0.181818</td>\n",
              "      <td>-0.090909</td>\n",
              "      <td>N37422</td>\n",
              "      <td>PDX</td>\n",
              "      <td>IAH</td>\n",
              "    </tr>\n",
              "    <tr>\n",
              "      <th>3</th>\n",
              "      <td>1</td>\n",
              "      <td>0.090909</td>\n",
              "      <td>-0.818182</td>\n",
              "      <td>-0.727273</td>\n",
              "      <td>-0.636364</td>\n",
              "      <td>-0.545455</td>\n",
              "      <td>-0.454545</td>\n",
              "      <td>-0.363636</td>\n",
              "      <td>-0.272727</td>\n",
              "      <td>-0.181818</td>\n",
              "      <td>-0.090909</td>\n",
              "      <td>N547UW</td>\n",
              "      <td>PDX</td>\n",
              "      <td>CLT</td>\n",
              "    </tr>\n",
              "    <tr>\n",
              "      <th>4</th>\n",
              "      <td>1</td>\n",
              "      <td>-0.909091</td>\n",
              "      <td>-0.818182</td>\n",
              "      <td>-0.727273</td>\n",
              "      <td>-0.636364</td>\n",
              "      <td>-0.545455</td>\n",
              "      <td>-0.454545</td>\n",
              "      <td>-0.363636</td>\n",
              "      <td>-0.272727</td>\n",
              "      <td>-0.181818</td>\n",
              "      <td>-0.090909</td>\n",
              "      <td>N762AS</td>\n",
              "      <td>SEA</td>\n",
              "      <td>ANC</td>\n",
              "    </tr>\n",
              "  </tbody>\n",
              "</table>\n",
              "</div>"
            ],
            "text/plain": [
              "   intercept  carrier_0  carrier_1  carrier_2  carrier_3  carrier_4  \\\n",
              "0          1  -0.909091  -0.818182  -0.727273  -0.636364  -0.545455   \n",
              "1          1   0.090909  -0.818182  -0.727273  -0.636364  -0.545455   \n",
              "2          1   0.090909   0.181818  -0.727273  -0.636364  -0.545455   \n",
              "3          1   0.090909  -0.818182  -0.727273  -0.636364  -0.545455   \n",
              "4          1  -0.909091  -0.818182  -0.727273  -0.636364  -0.545455   \n",
              "\n",
              "   carrier_5  carrier_6  carrier_7  carrier_8  carrier_9 tailnum origin dest  \n",
              "0  -0.454545  -0.363636  -0.272727  -0.181818  -0.090909  N508AS    PDX  ANC  \n",
              "1  -0.454545  -0.363636  -0.272727  -0.181818  -0.090909  N195UW    SEA  CLT  \n",
              "2  -0.454545  -0.363636  -0.272727  -0.181818  -0.090909  N37422    PDX  IAH  \n",
              "3  -0.454545  -0.363636  -0.272727  -0.181818  -0.090909  N547UW    PDX  CLT  \n",
              "4  -0.454545  -0.363636  -0.272727  -0.181818  -0.090909  N762AS    SEA  ANC  "
            ]
          },
          "metadata": {
            "tags": []
          },
          "execution_count": 541
        }
      ]
    },
    {
      "metadata": {
        "id": "USCx73fotxFd",
        "colab_type": "text"
      },
      "cell_type": "markdown",
      "source": [
        "The interesting thing here is that you can see that the results are not the standard 1’s and 0’s \n",
        "\n",
        "you saw in the dummy encoding examples but rather regressed continuous values."
      ]
    },
    {
      "metadata": {
        "id": "0wBo2SwUt5iZ",
        "colab_type": "text"
      },
      "cell_type": "markdown",
      "source": [
        "#Miscellaneous Features"
      ]
    },
    {
      "metadata": {
        "id": "CD3PqSfFuELL",
        "colab_type": "text"
      },
      "cell_type": "markdown",
      "source": [
        "Sometimes you may encounter categorical feature columns which specify the ranges of values for observation points, for example, the age column might be described in the form of categories like 0-20, 20-40 and so on."
      ]
    },
    {
      "metadata": {
        "id": "KhLUZGoJuQ4m",
        "colab_type": "text"
      },
      "cell_type": "markdown",
      "source": [
        "While there can be a lot of ways to deal with such features, the most common ones are either split these ranges into two separate columns or replace them with some measure like the mean of that range."
      ]
    },
    {
      "metadata": {
        "id": "GqV32FqLujSg",
        "colab_type": "text"
      },
      "cell_type": "markdown",
      "source": [
        "`While there can be a lot of ways to deal with such features, the most common ones are either split these ranges into two separate columns or replace them with some measure like the mean of that range.`"
      ]
    },
    {
      "metadata": {
        "id": "j6J1EQr4V8SH",
        "colab_type": "code",
        "colab": {}
      },
      "cell_type": "code",
      "source": [
        "dummy_df_age = pd.DataFrame({'age': ['0-20', '20-40', '40-60','60-80']})\n"
      ],
      "execution_count": 0,
      "outputs": []
    },
    {
      "metadata": {
        "id": "QfysZlfKv6zz",
        "colab_type": "code",
        "colab": {
          "base_uri": "https://localhost:8080/",
          "height": 102
        },
        "outputId": "50975605-15c3-48b3-cd5c-02da67b779b9"
      },
      "cell_type": "code",
      "source": [
        "print(dummy_df_age['age'].map(lambda x: x.split('-')))"
      ],
      "execution_count": 548,
      "outputs": [
        {
          "output_type": "stream",
          "text": [
            "0     [0, 20]\n",
            "1    [20, 40]\n",
            "2    [40, 60]\n",
            "3    [60, 80]\n",
            "Name: age, dtype: object\n"
          ],
          "name": "stdout"
        }
      ]
    },
    {
      "metadata": {
        "id": "vT3A0TGpV8KC",
        "colab_type": "code",
        "colab": {
          "base_uri": "https://localhost:8080/",
          "height": 34
        },
        "outputId": "6c9d29d0-717c-4082-c8aa-90d5d898142f"
      },
      "cell_type": "code",
      "source": [
        "print(*dummy_df_age['age'].map(lambda x: x.split('-')))"
      ],
      "execution_count": 547,
      "outputs": [
        {
          "output_type": "stream",
          "text": [
            "['0', '20'] ['20', '40'] ['40', '60'] ['60', '80']\n"
          ],
          "name": "stdout"
        }
      ]
    },
    {
      "metadata": {
        "id": "qpgeJf3rwE6X",
        "colab_type": "code",
        "colab": {
          "base_uri": "https://localhost:8080/",
          "height": 34
        },
        "outputId": "94d8f92e-f19e-4530-8bd3-492b4edd3ae7"
      },
      "cell_type": "code",
      "source": [
        "print(zip(*dummy_df_age['age'].map(lambda x: x.split('-'))))"
      ],
      "execution_count": 551,
      "outputs": [
        {
          "output_type": "stream",
          "text": [
            "<zip object at 0x7f7fdccc6288>\n"
          ],
          "name": "stdout"
        }
      ]
    },
    {
      "metadata": {
        "id": "9FFVIu56V8DP",
        "colab_type": "code",
        "colab": {
          "base_uri": "https://localhost:8080/",
          "height": 173
        },
        "outputId": "bb5813ba-6b99-4861-bb55-da9b149f79f7"
      },
      "cell_type": "code",
      "source": [
        "dummy_df_age['start'], dummy_df_age['end'] = zip(*dummy_df_age['age'].map(lambda x: x.split('-')))\n",
        "\n",
        "dummy_df_age.head()"
      ],
      "execution_count": 566,
      "outputs": [
        {
          "output_type": "execute_result",
          "data": {
            "text/html": [
              "<div>\n",
              "<style scoped>\n",
              "    .dataframe tbody tr th:only-of-type {\n",
              "        vertical-align: middle;\n",
              "    }\n",
              "\n",
              "    .dataframe tbody tr th {\n",
              "        vertical-align: top;\n",
              "    }\n",
              "\n",
              "    .dataframe thead th {\n",
              "        text-align: right;\n",
              "    }\n",
              "</style>\n",
              "<table border=\"1\" class=\"dataframe\">\n",
              "  <thead>\n",
              "    <tr style=\"text-align: right;\">\n",
              "      <th></th>\n",
              "      <th>age</th>\n",
              "      <th>age_mean</th>\n",
              "      <th>start</th>\n",
              "      <th>end</th>\n",
              "    </tr>\n",
              "  </thead>\n",
              "  <tbody>\n",
              "    <tr>\n",
              "      <th>0</th>\n",
              "      <td>0-20</td>\n",
              "      <td>10.0</td>\n",
              "      <td>0</td>\n",
              "      <td>20</td>\n",
              "    </tr>\n",
              "    <tr>\n",
              "      <th>1</th>\n",
              "      <td>20-40</td>\n",
              "      <td>30.0</td>\n",
              "      <td>20</td>\n",
              "      <td>40</td>\n",
              "    </tr>\n",
              "    <tr>\n",
              "      <th>2</th>\n",
              "      <td>40-60</td>\n",
              "      <td>50.0</td>\n",
              "      <td>40</td>\n",
              "      <td>60</td>\n",
              "    </tr>\n",
              "    <tr>\n",
              "      <th>3</th>\n",
              "      <td>60-80</td>\n",
              "      <td>70.0</td>\n",
              "      <td>60</td>\n",
              "      <td>80</td>\n",
              "    </tr>\n",
              "  </tbody>\n",
              "</table>\n",
              "</div>"
            ],
            "text/plain": [
              "     age  age_mean start end\n",
              "0   0-20      10.0     0  20\n",
              "1  20-40      30.0    20  40\n",
              "2  40-60      50.0    40  60\n",
              "3  60-80      70.0    60  80"
            ]
          },
          "metadata": {
            "tags": []
          },
          "execution_count": 566
        }
      ]
    },
    {
      "metadata": {
        "id": "8p3WzsqpwiOb",
        "colab_type": "text"
      },
      "cell_type": "markdown",
      "source": [
        "`To replace the range with its mean, you will write a split_mean() function which basically takes one range at a time, splits it, then calculates the mean and returns it.\n",
        "\n",
        "To apply a certain function to all the entities of a column you will use the .apply() method:`"
      ]
    },
    {
      "metadata": {
        "id": "Z8No842BV8Ap",
        "colab_type": "code",
        "colab": {
          "base_uri": "https://localhost:8080/",
          "height": 173
        },
        "outputId": "896097d7-a59b-448d-c790-5a5c09550b0f"
      },
      "cell_type": "code",
      "source": [
        "dummy_df_age = pd.DataFrame({'age': ['0-20', '20-40', '40-60','60-80']})\n",
        "\n",
        "def split_mean(x):\n",
        "    split_list = x.split('-')\n",
        "    mean = (float(split_list[0])+float(split_list[1]))/2\n",
        "    return mean\n",
        "\n",
        "dummy_df_age['age_mean'] = dummy_df_age['age'].apply(lambda x: split_mean(x))\n",
        "\n",
        "dummy_df_age.head()"
      ],
      "execution_count": 564,
      "outputs": [
        {
          "output_type": "execute_result",
          "data": {
            "text/html": [
              "<div>\n",
              "<style scoped>\n",
              "    .dataframe tbody tr th:only-of-type {\n",
              "        vertical-align: middle;\n",
              "    }\n",
              "\n",
              "    .dataframe tbody tr th {\n",
              "        vertical-align: top;\n",
              "    }\n",
              "\n",
              "    .dataframe thead th {\n",
              "        text-align: right;\n",
              "    }\n",
              "</style>\n",
              "<table border=\"1\" class=\"dataframe\">\n",
              "  <thead>\n",
              "    <tr style=\"text-align: right;\">\n",
              "      <th></th>\n",
              "      <th>age</th>\n",
              "      <th>age_mean</th>\n",
              "    </tr>\n",
              "  </thead>\n",
              "  <tbody>\n",
              "    <tr>\n",
              "      <th>0</th>\n",
              "      <td>0-20</td>\n",
              "      <td>10.0</td>\n",
              "    </tr>\n",
              "    <tr>\n",
              "      <th>1</th>\n",
              "      <td>20-40</td>\n",
              "      <td>30.0</td>\n",
              "    </tr>\n",
              "    <tr>\n",
              "      <th>2</th>\n",
              "      <td>40-60</td>\n",
              "      <td>50.0</td>\n",
              "    </tr>\n",
              "    <tr>\n",
              "      <th>3</th>\n",
              "      <td>60-80</td>\n",
              "      <td>70.0</td>\n",
              "    </tr>\n",
              "  </tbody>\n",
              "</table>\n",
              "</div>"
            ],
            "text/plain": [
              "     age  age_mean\n",
              "0   0-20      10.0\n",
              "1  20-40      30.0\n",
              "2  40-60      50.0\n",
              "3  60-80      70.0"
            ]
          },
          "metadata": {
            "tags": []
          },
          "execution_count": 564
        }
      ]
    },
    {
      "metadata": {
        "id": "pLqXPohoxFZt",
        "colab_type": "text"
      },
      "cell_type": "markdown",
      "source": [
        "#Dealing with Categorical Features in Big Data with Spark"
      ]
    },
    {
      "metadata": {
        "id": "Z29Z5RPAxbn1",
        "colab_type": "text"
      },
      "cell_type": "markdown",
      "source": [
        "\n",
        "\n",
        "```\n",
        "Now you will learn how to read a dataset in Spark and encode categorical variables in **Apache Spark's Python API, Pyspark.**\n",
        "\n",
        " But before that it's good to brush up on some basic knowledge about Spark.\n",
        "```\n",
        "\n"
      ]
    },
    {
      "metadata": {
        "id": "1I0i855ky1Lb",
        "colab_type": "text"
      },
      "cell_type": "markdown",
      "source": [
        "\n",
        "\n",
        "```\n",
        "Spark is a platform for cluster computing. It lets you spread data and computations over clusters with multiple nodes. Splitting up your data makes it easier to work with very large datasets because each node only works with a small amount of data.\n",
        "\n",
        "As each node works on its own subset of the total data, it also carries out a part of the total calculations required, so that both data processing and computations are performed in parallel over the nodes in the cluster.\n",
        "\n",
        "Deciding whether or not Spark is the best solution for your problem takes some experience, but you can consider questions like:\n",
        "\n",
        "Q. Is my data too big to work with on a single machine?\n",
        "Q. Can my calculations be easily parallelized?\n",
        "\n",
        "The first step in using Spark is connecting to a cluster. In practice, the cluster will be hosted on a remote machine that's connected to all other nodes. There will be one computer, called the master that manages splitting up the data and the computations. The master is connected to the rest of the computers in the cluster, which are called slaves. The master sends the slaves data and calculations to run, and they send their results back to the master.\n",
        "\n",
        "When you're just getting started with Spark, it's simpler to just run a cluster locally.\n",
        "```\n",
        "\n"
      ]
    },
    {
      "metadata": {
        "id": "w-tZx4JKx0E0",
        "colab_type": "code",
        "colab": {
          "base_uri": "https://localhost:8080/",
          "height": 51
        },
        "outputId": "87344b96-19e0-4e82-9ec3-44c3ed744009"
      },
      "cell_type": "code",
      "source": [
        "!pip install pyspark"
      ],
      "execution_count": 570,
      "outputs": [
        {
          "output_type": "stream",
          "text": [
            "Requirement already satisfied: pyspark in /usr/local/lib/python3.6/dist-packages (2.4.0)\n",
            "Requirement already satisfied: py4j==0.10.7 in /usr/local/lib/python3.6/dist-packages (from pyspark) (0.10.7)\n"
          ],
          "name": "stdout"
        }
      ]
    },
    {
      "metadata": {
        "id": "Y5Zfou-2zNfD",
        "colab_type": "text"
      },
      "cell_type": "markdown",
      "source": [
        "\n",
        "\n",
        "```\n",
        "The first step in Spark programming is to create a SparkContext. SparkContext is required when you want to execute operations in a cluster. SparkContext tells Spark how and where to access a cluster. You'll start by importing SparkContext.\n",
        "```\n",
        "\n"
      ]
    },
    {
      "metadata": {
        "id": "2uR019S_w6Eq",
        "colab_type": "code",
        "colab": {}
      },
      "cell_type": "code",
      "source": [
        "from pyspark import SparkContext"
      ],
      "execution_count": 0,
      "outputs": []
    },
    {
      "metadata": {
        "id": "4L15tX2T5DYX",
        "colab_type": "code",
        "colab": {}
      },
      "cell_type": "code",
      "source": [
        "sc = SparkContext()"
      ],
      "execution_count": 0,
      "outputs": []
    },
    {
      "metadata": {
        "id": "tXCAEkr7zi6n",
        "colab_type": "text"
      },
      "cell_type": "markdown",
      "source": [
        "Note that if you are working on Spark's interactive shell then you don't have to import SparkContext as it will already be in your environment as **sc**.\n",
        "\n",
        "To start working with Spark DataFrames, you first have to create a **SparkSession** object from your **SparkContext**. You can think of the SparkContext as your connection to the cluster and the SparkSession as your interface with that connection.\n",
        "\n",
        "Note that if you are working in Spark's interactive shell you'll have a **SparkSession** called **spark** available in your workspace!\n",
        "\n"
      ]
    },
    {
      "metadata": {
        "id": "vcHDluQfw6Aw",
        "colab_type": "code",
        "colab": {}
      },
      "cell_type": "code",
      "source": [
        "from pyspark.sql import SparkSession as spark"
      ],
      "execution_count": 0,
      "outputs": []
    },
    {
      "metadata": {
        "id": "UHJPnncf0qgn",
        "colab_type": "text"
      },
      "cell_type": "markdown",
      "source": [
        "Once you've created a **SparkSession**, you can start poking around to see what data is in your cluster.\n",
        "\n",
        "Your **SparkSession** has an attribute called **catalog** which lists all the data inside the cluster. This attribute has a few methods for extracting different pieces of information.\n",
        "\n",
        "One of the most useful is the** .listTables()** method, which returns the names of all the tables in your cluster as a list.\n",
        "\n"
      ]
    }
  ]
}